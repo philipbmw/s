{
 "cells": [
  {
   "cell_type": "markdown",
   "metadata": {},
   "source": [
    "# KNN Example\n",
    "http://scikit-learn.org/stable/modules/generated/sklearn.datasets.load_iris.html\n",
    "## sklearn.datasets.load.iris"
   ]
  },
  {
   "cell_type": "code",
   "execution_count": 2,
   "metadata": {
    "collapsed": false
   },
   "outputs": [
    {
     "name": "stdout",
     "output_type": "stream",
     "text": [
      "C:\\Users\\BMW\\machinelearninginaction-master\\Ch02\n"
     ]
    }
   ],
   "source": [
    "import os\n",
    "srcDir = \"C:\\Users\\BMW\\machinelearninginaction-master\"\n",
    "srcDir2wd = os.path.join(srcDir,'Ch02')\n",
    "%cd {srcDir2wd}\n",
    "import kNN"
   ]
  },
  {
   "cell_type": "code",
   "execution_count": 3,
   "metadata": {
    "collapsed": true
   },
   "outputs": [],
   "source": [
    "import numpy as np\n",
    "import operator\n",
    "from sklearn.datasets import load_iris\n",
    "data = load_iris()\n",
    "\n",
    "k = 3"
   ]
  },
  {
   "cell_type": "markdown",
   "metadata": {},
   "source": [
    "## 1. Read Data\n",
    "* Input : Data\n",
    "* Output : NormalizaedData, Ranage, minValus"
   ]
  },
  {
   "cell_type": "code",
   "execution_count": 4,
   "metadata": {
    "collapsed": false
   },
   "outputs": [
    {
     "data": {
      "text/plain": [
       "array([ 3.6,  2.4,  5.9,  2.4])"
      ]
     },
     "execution_count": 4,
     "metadata": {},
     "output_type": "execute_result"
    }
   ],
   "source": [
    "#normalize data\n",
    "normData, dataRange, dataMinvals = kNN.autoNorm(data.data)\n",
    "dataRange"
   ]
  },
  {
   "cell_type": "markdown",
   "metadata": {},
   "source": [
    "## 2. Distance\n",
    "* Input : TrainDataSet, testData,\n",
    "* Output : distances"
   ]
  },
  {
   "cell_type": "code",
   "execution_count": 5,
   "metadata": {
    "collapsed": true
   },
   "outputs": [],
   "source": [
    "def calcDistance(TrainDataSet, testData):\n",
    "    dataSetSize = TrainDataSet.shape[0]\n",
    "    diffMat = np.tile(testData, (dataSetSize,1)) - TrainDataSet\n",
    "    sqDiffMat = diffMat**2\n",
    "    sqDistances = sqDiffMat.sum(axis=1)\n",
    "    return sqDistances**0.5"
   ]
  },
  {
   "cell_type": "code",
   "execution_count": 6,
   "metadata": {
    "collapsed": false
   },
   "outputs": [
    {
     "name": "stdout",
     "output_type": "stream",
     "text": [
      "[ 0.21561354  0.16810102  0.21761244  0.0500771   0.2103619   0.15087195\n",
      "  0.05286766  0.3167154   0.18134934  0.11906369  0.09914459  0.22821773\n",
      "  0.31162007  0.28698522  0.41908769  0.20482661  0.04166667  0.21845904\n",
      "  0.13284722  0.10614151  0.11906369  0.16007066  0.15860299  0.12594602\n",
      "  0.21289311  0.1029624   0.03254042  0.0500771   0.17064517  0.18939725\n",
      "  0.12614386  0.25552884  0.31211396  0.18134934  0.13246018  0.11239641\n",
      "  0.18134934  0.28547976  0.04498205  0.05286766  0.52896235  0.23177773\n",
      "  0.17233246  0.17248562  0.22821773  0.12951485  0.18685589  0.10157824\n",
      "  0.08784105  0.92575133  0.8458718   0.96077621  0.81646322  0.90767568\n",
      "  0.77394235  0.8781654   0.65419631  0.8604353   0.73581847  0.79321841\n",
      "  0.78192769  0.81314879  0.8381537   0.65642979  0.85665339  0.79508853\n",
      "  0.68516673  0.97787517  0.71629068  0.91735524  0.75265959  0.96438341\n",
      "  0.80540809  0.80284987  0.85179826  0.94347854  1.00193086  0.83335039\n",
      "  0.63733949  0.72698681  0.69677404  0.7085739   0.95245298  0.78728654\n",
      "  0.82497514  0.91189504  0.91089349  0.69439537  0.76825992  0.76493672\n",
      "  0.81531075  0.73908174  0.68234049  0.75212586  0.68557589  0.72496197\n",
      "  0.77944268  0.62271839  0.72961582  1.28231417  1.02173072  1.24920385\n",
      "  1.06056895  1.20218294  1.38894933  0.9183641   1.25305449  1.17121665\n",
      "  1.3765916   1.05954583  1.08636636  1.17304728  1.06592481  1.16466032\n",
      "  1.16129008  1.05923982  1.42780475  1.51553888  1.01074842  1.24996768\n",
      "  1.00934134  1.40574763  1.00924578  1.16721062  1.18668383  0.97722391\n",
      "  0.9575584   1.16144639  1.13142404  1.27654703  1.37885739  1.19023782\n",
      "  0.9396069   0.98718612  1.40186322  1.20825326  1.04188803  0.93938049\n",
      "  1.16796915  1.25392877  1.19861611  1.02173072  1.25935429  1.2860977\n",
      "  1.19221725  1.07645954  1.08257132  1.14907064  0.96462829]\n"
     ]
    }
   ],
   "source": [
    "#첫번째 데이터와 다른 데이터들 사이의 거리\n",
    "distances = calcDistance(normData[1:], normData[0])\n",
    "print distances"
   ]
  },
  {
   "cell_type": "markdown",
   "metadata": {},
   "source": [
    "## 3. Select K Neighbors"
   ]
  },
  {
   "cell_type": "code",
   "execution_count": 7,
   "metadata": {
    "collapsed": true
   },
   "outputs": [],
   "source": [
    "def selectKNeighbors(distances, k):\n",
    "    sortedDistIndex = distances.argsort()\n",
    "    return sortedDistIndex[:k]"
   ]
  },
  {
   "cell_type": "code",
   "execution_count": 8,
   "metadata": {
    "collapsed": false
   },
   "outputs": [
    {
     "name": "stdout",
     "output_type": "stream",
     "text": [
      "[26 16 38]\n"
     ]
    }
   ],
   "source": [
    "sortedDistIndex = selectKNeighbors(distances, k)\n",
    "print sortedDistIndex"
   ]
  },
  {
   "cell_type": "markdown",
   "metadata": {},
   "source": [
    "## 4. Decision"
   ]
  },
  {
   "cell_type": "code",
   "execution_count": 9,
   "metadata": {
    "collapsed": true
   },
   "outputs": [],
   "source": [
    "def decision(KNeighborsIndex, labels):\n",
    "    classCount={}\n",
    "    for i in range(KNeighborsIndex.size):\n",
    "        voteIlabel = labels[KNeighborsIndex[i]]\n",
    "        classCount[voteIlabel] = classCount.get(voteIlabel, 0) + 1 # a = a + 1\n",
    "    sortedClassCount = sorted(classCount.iteritems(), key = operator.itemgetter(1), reverse=True) # 내림차순 정렬\n",
    "    return sortedClassCount[0][0]"
   ]
  },
  {
   "cell_type": "code",
   "execution_count": 10,
   "metadata": {
    "collapsed": false
   },
   "outputs": [
    {
     "data": {
      "text/plain": [
       "0"
      ]
     },
     "execution_count": 10,
     "metadata": {},
     "output_type": "execute_result"
    }
   ],
   "source": [
    "decision(sortedDistIndex, data.target[1:])"
   ]
  },
  {
   "cell_type": "markdown",
   "metadata": {},
   "source": [
    "## 5. Accuracy"
   ]
  },
  {
   "cell_type": "code",
   "execution_count": 11,
   "metadata": {
    "collapsed": true
   },
   "outputs": [],
   "source": [
    "def getAccuracyKNN(data, testRatio, k):\n",
    "    dataSize = data.target.size\n",
    "    testSize = int(dataSize*testRatio/100)\n",
    "    errCnt = 0\n",
    "    \n",
    "    #read data\n",
    "    normData, dataRange, dataMinvals = kNN.autoNorm(data.data)\n",
    "    for i in range(testSize):\n",
    "        #distance\n",
    "        distances = calcDistance(normData[testSize:], normData[i])\n",
    "        #select k neighbors\n",
    "        sortedDistIndex = selectKNeighbors(distances, k)\n",
    "        #decision\n",
    "        guess = decision(sortedDistIndex, data.target[testSize:])\n",
    "        print \"the classifier guess as: %s, the real answer is: %s\" % (data.target_names[guess], data.target_names[data.target[i]])\n",
    "        #calculating accuracy\n",
    "        if(guess != data.target[i]): \n",
    "            errCnt += 1.0\n",
    "    print \"the total error rate is :%lf%%\" % ((errCnt/testSize) * 100)"
   ]
  },
  {
   "cell_type": "code",
   "execution_count": 12,
   "metadata": {
    "collapsed": false
   },
   "outputs": [
    {
     "name": "stdout",
     "output_type": "stream",
     "text": [
      "the classifier guess as: setosa, the real answer is: setosa\n",
      "the classifier guess as: setosa, the real answer is: setosa\n",
      "the classifier guess as: setosa, the real answer is: setosa\n",
      "the classifier guess as: setosa, the real answer is: setosa\n",
      "the classifier guess as: setosa, the real answer is: setosa\n",
      "the classifier guess as: setosa, the real answer is: setosa\n",
      "the classifier guess as: setosa, the real answer is: setosa\n",
      "the classifier guess as: setosa, the real answer is: setosa\n",
      "the classifier guess as: setosa, the real answer is: setosa\n",
      "the classifier guess as: setosa, the real answer is: setosa\n",
      "the classifier guess as: setosa, the real answer is: setosa\n",
      "the classifier guess as: setosa, the real answer is: setosa\n",
      "the classifier guess as: setosa, the real answer is: setosa\n",
      "the classifier guess as: setosa, the real answer is: setosa\n",
      "the classifier guess as: setosa, the real answer is: setosa\n",
      "the total error rate is :0.000000%\n"
     ]
    }
   ],
   "source": [
    "getAccuracyKNN(data, 10, 3)"
   ]
  },
  {
   "cell_type": "code",
   "execution_count": null,
   "metadata": {
    "collapsed": true
   },
   "outputs": [],
   "source": []
  }
 ],
 "metadata": {
  "kernelspec": {
   "display_name": "Python 2",
   "language": "python",
   "name": "python2"
  },
  "language_info": {
   "codemirror_mode": {
    "name": "ipython",
    "version": 2
   },
   "file_extension": ".py",
   "mimetype": "text/x-python",
   "name": "python",
   "nbconvert_exporter": "python",
   "pygments_lexer": "ipython2",
   "version": "2.7.11"
  }
 },
 "nbformat": 4,
 "nbformat_minor": 0
}
