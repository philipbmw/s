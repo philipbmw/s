{
 "cells": [
  {
   "cell_type": "markdown",
   "metadata": {},
   "source": [
    "# MLB 트윗 분석을 통한 한국 메이저리거에 대한 인식 추론"
   ]
  },
  {
   "cell_type": "markdown",
   "metadata": {},
   "source": [
    "## 1. Introduction\n",
    "\n",
    "* MajorLeagueBaseball과 관련된 트윗 분석 및 Youtube 동영상 시청 후 관련 댓글들을 분석 \n",
    "* 실제 메이저리거에 대한 현지 여론을 학습 (현재 여론 조사 표본 데이터 활용) \n",
    "* 한국 메이저리거들의 현지 평가를 위한 트위터 내 트윗 검색\n",
    "* 수업시간에 활용하였던 Python 기반 나이브 베이지안 방법을 이용하여 메이저리거 현지 여론 학습 및 평가\n",
    "* 실제 수행한 학습된 분류기를 이용하여 비판 여론이면 ClassVector 0, 긍정 여론이면 ClassVector 1로 분류 "
   ]
  },
  {
   "cell_type": "markdown",
   "metadata": {},
   "source": [
    "## 2. Proposed Method\n",
    "* 가설) 트위터 내에 #MLB 및 MLB와 관련된 해쉬태그 검색을 통한 키워드 중심의 검색을 통해 현지 메이저리그 여론에 대한 트윗을 모아 저장하고, 이를 기반으로 하여 실제 한국 메이저리거에 대한 현재 여론 판단\n",
    "\n",
    "* 한계 1.) 실제 트위터만을 이용하여 메이저리거에 대한 여론을 판단하는 문장이 많이 나오지 않음\n",
    "* 한계 2.) 여론 판단을 위한 문장보다 아무런 의미 없는 문장들이 대다수인 것으로 파악됨\n",
    "\n",
    "* 해결책) 트위터 이외에 MLB 관련 Youtube 동영상의 댓글 중에서 여론 판단에 대한 문장을 함께 분석하고 수집하여 표본 데이터를 많이 모을 수 있도록 설정  "
   ]
  },
  {
   "cell_type": "markdown",
   "metadata": {},
   "source": [
    "### 2.1 DataSet\n",
    "\n",
    "* 트위터 내 MLB 관련 트윗 및 Youtube 동영상 댓글을 분석하여 Sentiment Sentence라고 생각되는 표본 데이터 수집\n",
    "* Test Data (표본 데이터)는 메이저리그 관련 글에서 긍정 문구 100개, 부정 문구 100개 총 200개의 데이터 수집\n",
    "* 긍정 문구 100개에 대해서는 ClassVector 1로 설정하고, 부정 문구 100개에 대해서는 ClassVector 0으로 설정하여 긍정 및 부정 문구 분류\n",
    "* 이후 Validation Data는 실제 한국 메이저리거에 대한 현지 여론 학습을 위해 15개의 문구 수집하여 최종적으로 각 문구에 대한 Sentiment Analysis를 이루고자 함~!!"
   ]
  },
  {
   "cell_type": "code",
   "execution_count": 44,
   "metadata": {
    "collapsed": false
   },
   "outputs": [],
   "source": [
    "import re\n",
    "\n",
    "SentenSe = []\n",
    "ClassVec = []\n",
    "DocList = []\n",
    "regEx = re.compile('\\\\W*')\n",
    "\n",
    "file = open('Sentiment_Sentences.txt')\n",
    "for i in file.readlines():\n",
    "    SentenSe.append(i)\n",
    "idx = len(SentenSe)\n",
    "\n",
    "file = open('ClassVector.txt')\n",
    "for i in file.readlines():\n",
    "    ClassVec.append(i.rstrip('\\n'))\n",
    "    \n",
    "for i in range(idx):\n",
    "    temp = regEx.split(SentenSe[i])\n",
    "    DocList.append(temp)"
   ]
  },
  {
   "cell_type": "markdown",
   "metadata": {},
   "source": [
    "### 2.1.1 Sentiment_Sentences \n",
    "* (총 200개의 표본 데이터)"
   ]
  },
  {
   "cell_type": "code",
   "execution_count": 45,
   "metadata": {
    "collapsed": false
   },
   "outputs": [
    {
     "name": "stdout",
     "output_type": "stream",
     "text": [
      "[['Little', 'nervous', 'watching', 'the', 'Twins', 'on', 'TV', 'today', 'Hopefully', 'the', 'game', 'is', 'closer', 'than', 'it', 'was', 'last', 'night', 'cmontwins', 'sundayfunday', 'park', 'sa', ''], ['', 'hyunsookim', 'will', 'surly', 'be', 'booed', 'running', 'down', 'carpet', 'during', 'opening', 'day', 'if', 'he', 's', 'on', 'the', 'roster', 'orioles', 'openingday', ''], ['The', 'fact', 'that', 'HyunSooKim', 'has', 'a', 'clause', 'in', 'his', 'contract', 'that', 'says', 'he', 'can', 'refuse', 'being', 're', 'signed', 'to', 'the', 'minor', 'leagues', 'is', 'complete', 'horseshit', ''], ['Hyun', 'Soo', 'Kim', 's', 'Agency', 'Says', 'He', 'Won', 't', 'Accept', 'Minors', 'BaltimoreOrioles', 'HyunsooKim', 'Newsstand', 'mlb', 'fantasybaseball', ''], ['Baltimore', 'Orioles', 'Korean', 'OF', 'HyunSooKim', 'On', 'the', 'Bubble', 'onthebubble', 'MLB', ''], ['', 'HyunSooKim', 'still', 'hitless', '0', 'for', '21', 'Orioles', 'winless', '0', '9', ''], ['', 'SteveDavisBmore', 'isn', 't', 'too', 'worried', 'about', 'HyunSooKim', 's', 'start', 'for', 'the', 'Orioles', 'during', 'spring', 'training', 'yet', ''], ['Tyler', 'Tyler', 'Collins', 'Do', 'you', 'understand', 'you', 'want', 'the', 'fans', 'on', 'your', 'side', 'You', 'deserved', 'to', 'get', 'booed', 'That', 'should', 'not', 'have', 'happened', 'Tigers', 'Collins', ''], ['Holy', 'Cow', 'are', 'you', 'kidding', 'me', 'right', 'now', 'tigers', 'Collins', 'WOW', 'saying', 'F', 'U', 'to', 'the', 'fans', 'and', 'flipping', 'them', 'off', 'good', 'luck', 'Pal', ''], ['Way', 'to', 'be', 'classy', 'Collins', 'Waving', 'your', 'middle', 'finger', 'to', 'the', 'crowd', ''], ['That', 'had', 'to', 'be', 'the', 'silliest', 'way', 'to', 'lose', 'a', 'consecutive', 'scoreless', 'innings', 'streak', ''], ['If', 'you', 'drop', 'a', 'fly', 'ball', 'you', 'might', 'want', 'to', 'pick', 'it', 'up', 'You', 'might', 'not', 'want', 'to', 'flip', 'off', 'your', 'fans', 'either', 'TylerCollins', ''], ['the', 'worst', 'thing', 'I', 'have', 'ever', 'seen', 'done', 'at', 'a', 'sporting', 'event', 'in', 'Detroit', 'I', 'have', 'attended', 'over', '1200', 'games', 'in', 'the', 'city', ''], ['Detroit', 'Tigers', 'player', 'TylerCollins', 'loses', 'one', 'in', 'lights', 'loses', 'cool', 'flips', 'off', 'fans', 'Did', 'he', 'go', 'too', 'far', ''], ['', 'tylercollins', 'fuck', 'em', 'all', 'to', 'the', 'Tigers', 'fans', 'Time', 'to', 'go', 'back', 'to', 'minors', 'and', 'stay', 'there', 'Tyler', 'byefelicia', ''], ['Keuchel', 'is', 'doing', 'his', 'job', 'out', 'there', 'but', 'the', 'Astros', 'offense', 'is', 'not', 'doing', 'crap', ''], ['in', 'spaceships', 'they', 'won', 't', 'understand', 'and', 'me', 'i', 'ain', 't', 'ever', 'gonna', 'understand', 'this', 'shit', 'lets', 'gostros', 'houstonastros', ''], ['Holy', 'shit', 'he', 'hit', 'that', 'fucking', 'ball', 'up', 'there', 'houstonastros', ''], ['When', 'people', 'were', 'talking', 'shit', 'all', 'season', 'long', 'and', 'still', 'talking', 'shit', ''], ['I', 'feel', 'like', 'a', 'girl', 'that', 'can', 't', 'take', 'the', 'hint', 'that', 'her', 'boyfriends', 'a', 'pice', 'of', 'shit', 'HoustonAstros', 'istilllovethem', ''], ['The', 'HoustonAstros', 'are', 'the', 'most', 'profitable', 'team', 'in', 'baseball', 'That', 'is', 'so', 'pathetic', 'how', 'teams', 'get', 'away', 'with', 'that', 'shit', ''], ['Yooooo', 'them', 'houstonastros', 'are', 'garbage', 'Wow', 'they', 'better', 'get', 'they', 'shit', 'right', ''], ['Not', 'even', 'the', 'players', 'give', 'a', 'shit', 'houstonastros', 'baseball', ''], ['That', 'ball', 'was', 'trapped', 'Get', 'your', 'shit', 'together', 'MLB', 'replay', 'umpires', 'in', 'New', 'York', 'Incompetent', 'as', 'fuck', 'Giants', ''], ['This', 'team', 'will', 'absolutely', 'lose', '100', 'games', 'this', 'year', 'Twins', 'Fans', 'need', 'to', 'stop', 'going', 'to', 'Twin', 'games', 'immediately', 'FUCK', 'THE', 'POHLAD', 'S', ''], ['Watching', 'the', 'Twins', 'is', 'like', 'beating', 'yourself', 'in', 'the', 'head', 'with', 'a', 'hammer', 'Jepsen', ''], ['', 'Jepsen', 'is', 'horse', 'shit', 'Fuck', 'you', 'Twins', ''], ['Braves', 'we', 're', 'going', 'to', 'be', 'abysmal', 'in', '2016', 'Gonzalez', 'can', 't', 'make', 'chicken', 'soup', 'with', 'chicken', 's', 't', ''], ['The', 'Braves', 'are', 'really', 'bad', 'at', 'baseball', '11', '4', 'Braves', 'lose', 'again', 'in', 'BOS', 'ATL', 'They', 're', 'here', 'to', 'play', 'the', 'Cubs', 'Friday', 'Sunday', ''], ['', 'Braves', 'lose', 'again', 'Out', 'of', '20', 'games', 'to', 'start', 'the', 'year', 'they', 've', 'won', 'only', '4', 'of', 'then', 'Fall', '11', '4', 'to', 'the', 'RedSox', 'and', 'to', '4', '16', 'on', 'the', 'year', ''], ['This', 'whole', 'it', 's', 'all', 'about', 'live', 'sports', 'content', 'has', 'bubble', 'signs', 'The', 'money', 'does', 'have', 'to', 'come', 'from', 'somewhere', 'Greinke', 'deal', ''], ['', 'Molina', 'is', 'a', 'little', 'ole', 'bitch', 'Fuck', 'the', 'Birds', 'Fuck', 'the', 'Cards', 'Fuck', 'Molina', 'ole', 'fuck', 'boy', 'ass', 'bitch', ''], ['King', 'Bitch', 'was', 'benched', 'Hope', 'he', 'doesn', 't', 'throw', 'a', 'tantrum', 'Puig', ''], ['Your', 'a', 'fucking', 'bitch', 'puig', 'Sit', 'down', 'Go', 'roll', 'some', 'cigars', 'STLCards', 'STLvsLAD', 'NLDS', ''], ['Glad', 'his', 'bitch', 'ass', 'didn', 't', 'win', 'espn', 'puig', 'the', 'media', 'ballooned', 'his', 'head', ''], ['', 'BestFansStLouis', 'redbirdsalm', 'eddiegreen82', 'He', 's', 'a', 'little', 'bitch', 'I', 'wish', 'he', 's', 'thugs', 'would', 'find', 'him', 'Take', 'him', 'back', 'to', 'Cuba', 'Puig', ''], ['I', 'hate', 'that', 'fucker', 'Punk', 'bitch', 'puig', 'fuckLA', 'SFGiants', ''], ['If', 'you', 'going', 'to', 'talk', 'shit', 'at', 'least', 'put', 'your', 'name', 'next', 'to', 'the', 'quote', 'don', 't', 'be', 'a', 'pussy', 'Puig', 'is', 'not', 'the', 'worst', 'person', 'in', 'baseball', ''], ['That', 's', 'what', 'you', 'fucking', 'get', 'Dave', 'Roberts', 'for', 'taking', 'out', 'Ross', 'Stripling', 'during', 'his', 'no', 'hitter', 'because', 'of', 'pitch', 'count', 'Pussy', 'managing', 'MLBs', ''], ['Yes', 'TylerCollins', 'did', 'indeed', 'give', 'DetroitTigers', 'crowd', 'the', 'finger', 'And', 'mumbled', 'F', 'everybody', ''], ['Mark', 'Trumbo', 'leading', 'the', 'AL', 'in', 'batting', 'avg', 'Definitely', 'not', 'gonna', 'last', ''], ['Mark', 'Trumbo', 'is', 'killing', 'the', 'O', 's', 'on', 'defense', 'It', 's', 'a', 'slow', 'death', 'but', 'it', 's', 'happening', ''], ['', 'LyleMSpencer', 'Mtrumbo44', 'I', 'never', 'have', 'seen', 'him', 'hotter', 'it', 'just', 'means', 'when', 'he', 'gets', 'into', 'one', 'of', 'his', 'slumps', 'it', 'will', 'be', 'a', 'long', 'one', ''], ['Daniel', 'Murphy', 'couldn', 't', 'do', 'that', 'LGM', ''], ['Daniel', 'Murphy', 'is', 'not', 'making', 'that', 'play', 'Not', 'even', 'close', 'Neil', 'Walker', 'is', 'much', 'better', 'all', 'around', 'and', 'I', 'am', 'hype', ''], ['Daniel', 'Murphy', 'and', 'Hunter', 'Pence', 'are', 'both', 'so', 'awkward', 'easily', 'the', 'two', 'most', 'uncomfortable', 'people', 'to', 'watch', 'play', 'baseball', ''], ['Daniel', 'Murphy', 'will', 'surely', 'hit', 'a', 'slump', 'soon', ''], ['Fuck', 'Daniel', 'Murphy', ''], ['Daniel', 'Murphy', 'at', 'this', 'point', 'is', 'not', 'hot', 'he', 's', 'actually', 'a', 'good', 'player', 'My', 'opinion', ''], ['Pitchers', 'see', 'Miggy', 'in', 'their', 'nightmares', 'You', 'could', 'see', 'him', 'at', 'the', 'ASG', ''], ['lol', 'remember', 'when', 'MLB', 'overhyped', 'the', 'shit', 'out', 'of', 'the', 'Red', 'Sox', 'and', 'their', 'offense', 'before', 'the', '2015', 'season', ''], ['MLB', 'TV', 'is', 'trash', 'today', 'holy', 'shit', 'Not', 'working', 'on', 'PS4', 'or', 'PC', ''], ['Nice', 'one', 'Lee', 'Dea', 'Ho', 'But', 'the', 'commentator', 'is', 'too', 'noisy', 'and', 'disgusting', ''], ['I', 'm', 'confused', 'why', 'didn', 't', 'the', 'athletics', 'runner', 'score', 'in', 'that', 'first', 'inning', ''], ['Stupid', 'fucking', 'music', 'ruins', 'it', ''], ['all', 'i', 'can', 'think', 'about', 'is', 'his', 'poor', 'arm', 'after', ''], ['At', 'Least', 'injuries', 'are', 'not', 'deliberately', 'done', 'like', 'fucking', 'football', ''], ['oh', 'my', 'gosh', 'those', 'poor', 'people', ''], ['Hudson', 'injury', 'is', 'BRUTAL', 'Oh', 'man', ''], ['Stupid', 'sport', ''], ['That', 'stuff', 'would', 'suck', ''], ['that', 'guys', 'is', 'tough', 'as', 'hell', ''], ['Baseball', 'is', 'such', 'a', 'bitch', 'sport', 'Even', 'the', 'injuries', 'suck', ''], ['That', 'was', 'scary', ''], ['Shut', 'the', 'fuck', 'up', 'minority', ''], ['My', 'brother', 'was', 'at', 'the', 'first', 'injury', ''], ['Fuck', 'Bautista', 'cocky', 'prick', ''], ['Hate', 'the', 'Yankees', 'so', 'much', ''], ['Bautista', 'murders', 'orioles', 'pitchers', 'who', 'throw', 'at', 'him', 'just', 'ask', 'Oday', ''], ['Fuck', 'A', 'Roid', 'the', 'fucking', 'cheat', ''], ['damn', 'daniel', ''], ['Gomez', 'a', 'pervert', 'I', 'think', ''], ['Who', 'the', 'hell', 'would', 'want', 'to', 'meet', 'that', 'scumbag', 'Carlos', 'Gomez', ''], ['U', 'suck', ''], ['U', 'suck', 'that', 'is', 'true', ''], ['Fucking', 'gay', ''], ['Horrible', 'game', ''], ['Shame', 'he', 'got', 'injured', 'was', 'really', 'having', 'a', 'solid', 'year', ''], ['sucks', 'he', 's', 'gonna', 'miss', 'the', 'postseason', ''], ['Totally', 'awesome', ''], ['choo', 'is', 'my', 'favorite', ''], ['Great', 'catch', ''], ['Fuck', 'ya', 'Pillar', 'Go', 'Jays', 'Go', ''], ['the', 'teams', 'are', 'so', 'shitty', ''], ['Goddamn', 'Kiermaier', 'is', 'so', 'underrated', ''], ['God', 'ellsburry', 'is', 'a', 'terrible', 'fielder', ''], ['I', 'feel', 'so', 'bad', 'for', 'that', 'old', 'guy', 'with', 'the', 'fire', 'works', ''], ['And', 'I', 'thought', 'my', 'week', 'was', 'going', 'bad', ''], ['fuck', 'all', 'you', ''], ['curveball', 'is', 'so', 'nasty', ''], ['Haters', 'gonna', 'hate', ''], ['', 'patcarroll11', 'after', 'seeing', 'your', 'top', '4', 'hated', 'teams', 'I', 'had', 'a', 'feeling', 'you', 'were', 'biased', 'against', 'a', 'lot', 'of', 'teams', 'BrandonPhillips', 'Choo', 'Cleveland', ''], ['Kick', 'his', 'ass', 'sea', 'bass', 'indians', 'royals', 'Hannahan', 'Choo', ''], ['Settle', 'down', 'you', 'weak', 'little', 'Asian', 'man', 'jays', 'Indians', 'Choo', 'you', 'got', 'nothing', 'MLB', ''], ['Hey', 'buddy', 'the', 'ball', 'is', 'behind', 'you', 'It', 's', 'not', 'in', 'your', 'glove', 'Puig', 'Dodgers', ''], ['Diet', 'no', 'longer', 'the', 'primary', 'cause', 'of', 'high', 'blood', 'pressure', 'No', 'no', 'its', 'now', 'Brian', 'Wilson', 'Dodgers', 'wilson', 'facepalm', ''], ['Why', 'does', 'Mattingly', 'insist', 'on', 'still', 'using', 'Wilson', 'in', 'important', 'situations', 'Makes', 'absolutely', 'no', 'sense', 'Dodgers', ''], ['Chris', 'Sale', 's', 'curve', 'was', 'so', 'fucking', 'dirty', 'omg', ''], ['This', 'is', 'painful', 'to', 'watch', ''], ['SOME', 'PLAYERS', 'DONT', 'KNOW', 'HOW', 'TO', 'CATCH', ''], ['', 'InMetsWeTrust', 'and', 'u', 'can', 'trust', 'that', 'i', 'won', 't', 'fuck', 'up', 'like', 'daniel', 'murphy', 'did', ''], ['Baseball', 'announcers', 'are', 'so', 'polite', 'Daniel', 'Murphy', 'fields', 'a', 'ball', 'I', 'm', 'quite', 'certain', 'my', '5', 'mo', 'old', 'could', 'handle', 'Lauded', 'for', 'his', 'great', 'play', ''], ['Daniel', 'Murphy', 'showing', 'the', 'range', 'Nice', 'Easy', 'double', 'play', 'once', 'he', 'gets', 'there', 'with', 'Molina', 'running', ''], ['Daniel', 'Murphy', 'was', 'a', 'huge', 'part', 'of', 'the', 'Mets', 'run', 'last', 'year', 'but', 'w', 'the', 'progress', 'of', 'their', 'starting', 'pitchers', 'neil', 'Walker', 'this', 'yrs', 'team', 'is', 'better', ''], ['This', 'Daniel', 'Murphy', 'move', 'was', 'so', 'solid', 'he', 's', 'a', 'hitting', 'machine', ''], ['Daniel', 'Murphy', 'is', 'one', 'mighty', 'fine', 'looking', 'man', ''], ['Daniel', 'Murphy', 'has', 'been', 'such', 'a', 'great', 'pick', 'up', ''], ['Sick', 'At', 'least', 'Daniel', 'Murphy', 'is', 'bringing', 'all', 'the', 'hits', 'Looks', 'like', 'laying', 'in', 'bed', 'with', 'baseball', 'and', 'draft', 'tweets', 'is', 'all', 'I', 'got', ''], ['Daniel', 'Murphy', 'well', 'done', 'Nationals', ''], ['', 'MeddoconlineDr', 'Daniel', 'Murphy', 'was', 'your', 'best', 'player', ''], ['Enjoy', 'watching', 'how', 'hard', 'Daniel', 'Murphy', 'plays', 'the', 'game', ''], ['Byung', 'Ho', 'Park', 'What', 'a', 'guy', 'Favorite', 'player', 'on', 'the', 'entire', 'very', 'successful', 'Twins', 'Roster', ''], ['Byung', 'Ho', 'Park', 's', 'another', 'moon', 'shot', 'Korean', 'call', ''], ['Byung', 'Ho', 'Park', 's', 'monster', 'home', 'run', 'on', 'Korean', 'play', 'by', 'play', 'Very', 'cool', ''], ['Seung', 'hwan', 'Oh', 'has', 'emerged', 'as', '1', 'of', 'the', 'most', 'reliable', 'pitchers', 'in', 'this', 'bullpen', ''], ['Good', 'to', 'see', 'Seung', 'Hwan', 'Oh', 'pitch', 'two', 'scoreless', 'today', 'in', 'the', '7th', 'and', '8th', 'for', 'the', 'Cardinals', 'The', 'Korean', 'is', 'effective', ''], ['Seung', 'Hwan', 'Oh', 'really', 'impressing', 'in', 'his', 'rookie', 'season', 'Has', 'not', 'allowed', 'a', 'hit', ''], ['Congratulations', 'to', 'Seung', 'Hwan', 'Oh', 'on', 'his', 'first', 'career', 'Major', 'League', 'win', ''], ['This', 'Is', 'Perfect', ''], ['I', 'didn', 't', 'understand', 'a', 'single', 'word', 'but', 'it', 'still', 'was', 'awesome', ''], ['', 'BrianDozier', 'can', 't', 'wait', 'to', 'get', 'to', 'the', 'Twins', 'clubhouse', 'for', 'their', 'postgame', 'dance', 'party', 'It', 's', 'good', 'to', 'be', 'back', 'home', ''], ['Those', 'were', 'some', 'awesome', 'catches', ''], ['This', 'is', 'amazing', ''], ['They', 'have', 'such', 'nice', 'booty', ''], ['yeah', 'that', 'was', 'amazing', 'and', 'great', ''], ['One', 'of', 'the', 'reasons', 'why', 'I', 'love', 'baseball', ''], ['Nice', 'video', 'exciting', 'to', 'watch', ''], ['so', 'nice', ''], ['Touching', ''], ['it', 's', 'cool', 'that', 'the', 'players', 'do', 'that', ''], ['hes', 'going', 'to', 'do', 'better', 'next', 'year', ''], ['He', 's', 'got', 'a', 'pretty', 'good', 'curve', ''], ['I', 'love', 'this', 'guy', ''], ['thanks', 'for', 'your', 'ability', ''], ['My', 'favorite', 'player', ''], ['Perfect', 'plays', 'and', 'bgm', ''], ['God', 'I', 'love', 'baseball', ''], ['Keep', 'up', 'the', 'good', 'work', ''], ['Awesome', 'video', 'Great', 'channel', 'I', 'm', 'subbed', ''], ['Nice', 'inside', 'the', 'park', 'home', 'runs', ''], ['Good', 'running', ''], ['Scoreless', 'innings', 'streak', 'snapped', 'for', 'Cardinals', 'Oh', 'Seung', 'hwan', ''], ['Seung', 'Hwan', 'Oh', 'has', 'been', 'quietly', 'awesome', 'in', 'the', 'first', 'tenth', 'of', 'the', 'season', 'Great', 'signing', ''], ['Good', 'to', 'see', 'Seung', 'Hwan', 'Oh', 'pitch', 'two', 'scoreless', 'today', 'in', 'the', '7th', 'and', '8th', 'for', 'the', 'Cardinals', 'The', 'Korean', 'is', 'effective', ''], ['The', 'best', 'pitcher', 'in', 'Major', 'League', 'Baseball', ''], ['What', 'a', 'Priceless', ''], ['I', 'm', 'looking', 'forward', 'to', 'Kimbrel', 'closing', 'games', 'for', 'the', 'Sox', ''], ['Any', 'more', 'closer', 'relief', 'pitchers', 'in', 'mind', ''], ['Love', 'Kimbrel', ''], ['Awesome', 'pitching', 'matchup', 'Garcia', 'vs', 'Greinke', ''], ['Congrats', 'to', 'Zack', 'Greinke', 'on', 'his', 'first', 'career', 'pinch', 'hit', ''], ['Dae', 'Ho', 'Lee', 'Mariners', 'a', 'multi', 'hit', 'game', 'today', ''], ['Congrats', 'to', 'Dae', 'ho', 'Lee', 'on', 'MLB', 'debut', 'today', 'with', 'Mariners', 'Here', 's', 'video', 'I', 'shot', '3', '26', 'in', 'AZ', 'crowd', 'chants', 'Dae', 'ho', ''], ['omg', 'finalllly', 'Dae', 'ho', 'GoMariners', 'neededthat', 'mariners', 'win', 'daeho', 'walkoff', ''], ['He', 'used', 'to', 'be', 'a', 'slugger', 'for', 'both', 'Korea', 'Japan', 'Now', 'he', 's', 'warming', 'up', 'for', 'the', 'big', 'league', 's', 'title', 'Go', 'Daeho', ''], ['Beautiful', 'HomeRun', 'DAEHO', 'is', 'awesome', ''], ['', 'Collins', 'RT', 'tigers', 'Tyler', 'Collins', 'with', 'a', 'diving', 'grab', 'to', 'end', 'the', 'sixth', 'inning', 'We', 're', 'still', 'scoreless', 'from', 'Disney', 'Tigers', ''], ['Wish', 'i', 'had', 'some', 'kahlua', 'to', 'drink', 'in', 'shin', 'soo', 'choo', 's', 'honor', 'for', 'tonight', 's', 'performance', 'choo', 'indians', ''], ['Thank', 'God', 'for', 'Choo', 'The', 'Indians', 'need', 'him', 'right', 'now', 'C', 'mon', 'Tribe', ''], ['The', 'greatest', 'throw', 'I', 've', 'ever', 'seen', 'Puig', ''], ['Lets', 'go', 'kershaw', 'you', 'got', 'Dogers', 'NoHitter', 'Kershaw', ''], ['', 'Dodgers', 'looked', 'good', 'tonight', 'Kershaw', 'was', 'dealing', 'thinkblue', 'go', 'Dogers', ''], ['I', 'm', 'pretty', 'sure', 'Neil', 'Walker', 'is', 'my', 'favorite', 'NL', '2nd', 'Baseman', 'MLB', 'Pirates', ''], ['There', 's', 'our', 'MVP', 'donaldson', 'jays', ''], ['What', 'a', 'beautiful', 'double', 'play', 'Machado', ''], ['I', 'm', 'just', 'say', 'it', 'now', 'I', 'believe', 'they', 'win', 'this', 'game', 'Cubs', 'GoCubsGo', 'Arrieta', ''], ['Baseball', 'has', 'never', 'seen', 'a', 'pitcher', 'like', 'Noah', 'Syndergaard', 'and', 'it', 's', 'raising', 'one', 'big', 'concern', 'http', 'uk', 'businessinsider', 'com', 'noah', 'syndergaards', 'pitching', 'raising', 'big', 'concern', '2016', '4', 'Mets', ''], ['', 'Noah', 'Syndergaard', 'has', 'pitch', 'that', 's', 'nearly', 'impossible', 'hit', 'it', 's', 'baffling', 'baseball', 'world', ''], ['THOR', 'THE', 'BOSS', 'Syndergaard', 'Mets', 'LGM', ''], ['So', 'not', 'only', 'is', 'syndergaard', 'hot', 'He', 's', 'also', 'a', 'beast', '34', 'mets', ''], ['Awesome', 'job', 'today', 'Noahsyndergaard', 'Was', 'so', 'much', 'fun', 'watching', 'in', 'person', 'LGM', 'Mets', 'NYMets', 'MetsWin', 'Syndergaard', ''], ['', 'Syndergaard', 'is', 'a', 'MONSTER', ''], ['KKK', 'FINAL', 'BOSS', ''], ['Yes', 'Uribe', 'Still', 'love', 'you', 'Papi', 'Dodgers', ''], ['Yeah', 'he', 'played', 'in', 'a', 'small', 'stadium', 'but', 'most', 'of', 'his', 'homers', 'cleared', 'the', 'fence', 'by', 'about', '30', '40', 'feet', ''], ['wow', 'dudes', 'like', 'a', 'korean', 'barry', 'bonds', 'What', 'quick', 'bat', 'unreal', 'power', ''], ['bryce', 'harper', 'is', 'awesome', 'lets', 'go', 'nats', ''], ['Guy', 'was', 'beast', ''], ['I', 'love', 'you', 'Mike', 'Trout', ''], ['S', 'Rodriguez', 'is', 'the', 'best', 'defensive', 'player', 'on', 'the', 'Pirates', 'I', 'would', 'love', 'to', 'see', 'a', 'defensive', 'highlight', 'reel', 'of', 'his', ''], ['Helton', 's', 'play', 'and', 'the', 'way', 'he', 'just', 'ran', 'in', 'to', 'the', 'dugout', 'has', 'me', 'laughing', 'everytime', ''], ['On', 'his', 'way', 'back', 'Darvish', 'Rangers', ''], ['MLB', 'The', '5', 'Best', 'Japanese', 'Pitchers', 'in', 'Baseball', 'History', 'http', 'cht', 'st', 'pyhfs', 'MLB', 'Maeda', 'Mariners', 'RedSox', 'Darvish', 'Dodgers', 'Nomo', ''], ['I', 'really', 'hope', 'Darvish', 'pitches', 'for', 'Frisco', 'on', 'the', '28th', 'and', 'not', 'the', '26th', 'I', 'really', 'wanna', 'go', 'but', 'can', 't', 'skip', 'working', 'a', 'Ranger', 'Yankee', 'game', ''], ['SageLinQ', 'Sports', 'Yu', 'Darvish', 'is', 'impressed', 'with', 'his', 'velocity', 'after', 'Tommy', 'John', 'surgery', 'http', 'www', 'sagelinq', 'com', 'APXC', 'mp3', ''], ['', 'Rangers', 'Darvish', 'feels', 'strong', 'hopeful', 'for', 'mid', 'May', 'return', ''], ['I', 'hope', 'Yu', 'Darvish', 'will', 'going', 'back', 'next', 'year', 'with', 'that', 'kind', 'of', 'Slider', ''], ['best', 'part', 'about', 'the', '2016', 'Rangers', 'team', 'No', 'more', 'Ross', 'freaking', 'Detwiler', 'And', 'darvish', 'hopefully', 'a', 'lot', 'of', 'Darvish', ''], ['Awesome', 'to', 'see', 'Darvish', 'top', 'of', 'dugout', 'every', 'night', 'LetsGoRangers', ''], ['Here', 's', 'Osaka', 's', 'own', 'MLB', 'superstar', 'YuDarvish', 'warming', 'up', 'He', 's', 'even', 'more', 'amazing', 'in', 'person', 'Darvish', 'baseball', ''], ['', 'Darvish', 'and', 'that', 'beast', 'arm', 'Rangers', 'gorangers', ''], ['', 'Yu', 'Darvish', 'is', 'the', 'first', 'Rangers', 'pitcher', 'to', 'win', 'at', 'least', '10', 'games', 'in', 'his', '1st', '3', 'MLB', 'seasons', ''], ['Kim', 's', 'adjusting', 'just', 'fine', 'and', 'he', 'will', 'continue', 'doing', 'better', 'I', 'm', 'sure', 'of', 'it', ''], ['', 'scottmerkin', 'Have', 'a', 'great', 'year', 'john', 'Danks', ''], ['Simmons', 'is', 'the', 'best', 'shortstop', 'in', 'baseball', 'as', 'of', 'now', ''], ['This', 'is', 'awesome', 'Atta', 'boy', 'pujols', ''], ['Dustin', 'Pedroia', 'twice', 'nice', 'grab', ''], ['Nice', 'job', ''], ['Robinson', 'catch', 'was', 'fucking', 'beautiful', ''], ['I', 'love', 'you', 'cesar', '']]\n"
     ]
    }
   ],
   "source": [
    "print DocList"
   ]
  },
  {
   "cell_type": "markdown",
   "metadata": {},
   "source": [
    "### 2.1.2 ClassVector.txt \n",
    "* (총 200개 표본 데이터의 부정 및 긍정을 분류하는 0, 1의 벡터)"
   ]
  },
  {
   "cell_type": "code",
   "execution_count": 46,
   "metadata": {
    "collapsed": false
   },
   "outputs": [
    {
     "name": "stdout",
     "output_type": "stream",
     "text": [
      "['0', '0', '0', '0', '0', '0', '0', '0', '0', '0', '0', '0', '0', '0', '0', '0', '0', '0', '0', '0', '0', '0', '0', '0', '0', '0', '0', '0', '0', '0', '0', '0', '0', '0', '0', '0', '0', '0', '0', '0', '0', '0', '0', '0', '0', '0', '0', '0', '0', '0', '0', '0', '0', '0', '0', '0', '0', '0', '0', '0', '0', '0', '0', '0', '0', '0', '0', '0', '0', '0', '0', '0', '0', '0', '0', '0', '0', '0', '0', '0', '0', '0', '0', '0', '0', '0', '0', '0', '0', '0', '0', '0', '0', '0', '0', '0', '0', '0', '0', '0', '1', '1', '1', '1', '1', '1', '1', '1', '1', '1', '1', '1', '1', '1', '1', '1', '1', '1', '1', '1', '1', '1', '1', '1', '1', '1', '1', '1', '1', '1', '1', '1', '1', '1', '1', '1', '1', '1', '1', '1', '1', '1', '1', '1', '1', '1', '1', '1', '1', '1', '1', '1', '1', '1', '1', '1', '1', '1', '1', '1', '1', '1', '1', '1', '1', '1', '1', '1', '1', '1', '1', '1', '1', '1', '1', '1', '1', '1', '1', '1', '1', '1', '1', '1', '1', '1', '1', '1', '1', '1', '1', '1', '1', '1', '1', '1', '1', '1', '1', '1']\n"
     ]
    }
   ],
   "source": [
    "print ClassVec"
   ]
  },
  {
   "cell_type": "markdown",
   "metadata": {},
   "source": [
    "## 3. Experiments"
   ]
  },
  {
   "cell_type": "markdown",
   "metadata": {},
   "source": [
    "### 3.1 Removing for Nonsense words\n",
    "* 본 프로젝트에서는 한국 메이저리거에 대한 인식 추론을 목적으로 하기 때문에, 한국 메이저리거와 관련된 이름 및 소속팀에 대한 명명은 의미 없는 단어로 분류하여 제거하기 위해 Exceptwordlist로 분류함"
   ]
  },
  {
   "cell_type": "code",
   "execution_count": 47,
   "metadata": {
    "collapsed": false
   },
   "outputs": [
    {
     "name": "stdout",
     "output_type": "stream",
     "text": [
      "[['little', 'nervous', 'watching', 'the', 'on', 'tv', 'today', 'hopefully', 'the', 'game', 'is', 'closer', 'than', 'it', 'was', 'last', 'night', 'cmontwins', 'sundayfunday', 'sa', ''], ['', 'will', 'surly', 'be', 'booed', 'running', 'down', 'carpet', 'during', 'opening', 'day', 'if', 'he', 's', 'on', 'the', 'roster', 'openingday', ''], ['the', 'fact', 'that', 'has', 'a', 'clause', 'in', 'his', 'contract', 'that', 'says', 'he', 'can', 'refuse', 'being', 're', 'signed', 'to', 'the', 'minor', 'leagues', 'is', 'complete', 'horseshit', ''], ['hyun', 'soo', 's', 'agency', 'says', 'he', 'won', 't', 'accept', 'minors', 'newsstand', 'mlb', 'fantasybaseball', ''], ['korean', 'of', 'on', 'the', 'bubble', 'onthebubble', 'mlb', ''], ['', 'still', 'hitless', '0', 'for', '21', 'winless', '0', '9', ''], ['', 'stevedavisbmore', 'isn', 't', 'too', 'worried', 'about', 's', 'start', 'for', 'the', 'during', 'spring', 'training', 'yet', ''], ['tyler', 'tyler', 'collins', 'do', 'you', 'understand', 'you', 'want', 'the', 'fans', 'on', 'your', 'side', 'you', 'deserved', 'to', 'get', 'booed', 'that', 'should', 'not', 'have', 'happened', 'tigers', 'collins', ''], ['holy', 'cow', 'are', 'you', 'kidding', 'me', 'right', 'now', 'tigers', 'collins', 'wow', 'saying', 'f', 'u', 'to', 'the', 'fans', 'and', 'flipping', 'them', 'off', 'good', 'luck', 'pal', ''], ['way', 'to', 'be', 'classy', 'collins', 'waving', 'your', 'middle', 'finger', 'to', 'the', 'crowd', ''], ['that', 'had', 'to', 'be', 'the', 'silliest', 'way', 'to', 'lose', 'a', 'consecutive', 'scoreless', 'innings', 'streak', ''], ['if', 'you', 'drop', 'a', 'fly', 'ball', 'you', 'might', 'want', 'to', 'pick', 'it', 'up', 'you', 'might', 'not', 'want', 'to', 'flip', 'off', 'your', 'fans', 'either', 'tylercollins', ''], ['the', 'worst', 'thing', 'i', 'have', 'ever', 'seen', 'done', 'at', 'a', 'sporting', 'event', 'in', 'detroit', 'i', 'have', 'attended', 'over', '1200', 'games', 'in', 'the', 'city', ''], ['detroit', 'tigers', 'player', 'tylercollins', 'loses', 'one', 'in', 'lights', 'loses', 'cool', 'flips', 'off', 'fans', 'did', 'he', 'go', 'too', 'far', ''], ['', 'tylercollins', 'fuck', 'em', 'all', 'to', 'the', 'tigers', 'fans', 'time', 'to', 'go', 'back', 'to', 'minors', 'and', 'stay', 'there', 'tyler', 'byefelicia', ''], ['keuchel', 'is', 'doing', 'his', 'job', 'out', 'there', 'but', 'the', 'astros', 'offense', 'is', 'not', 'doing', 'crap', ''], ['in', 'spaceships', 'they', 'won', 't', 'understand', 'and', 'me', 'i', 'ain', 't', 'ever', 'gonna', 'understand', 'this', 'shit', 'lets', 'gostros', 'houstonastros', ''], ['holy', 'shit', 'he', 'hit', 'that', 'fucking', 'ball', 'up', 'there', 'houstonastros', ''], ['when', 'people', 'were', 'talking', 'shit', 'all', 'season', 'long', 'and', 'still', 'talking', 'shit', ''], ['i', 'feel', 'like', 'a', 'girl', 'that', 'can', 't', 'take', 'the', 'hint', 'that', 'her', 'boyfriends', 'a', 'pice', 'of', 'shit', 'houstonastros', 'istilllovethem', ''], ['the', 'houstonastros', 'are', 'the', 'most', 'profitable', 'team', 'in', 'baseball', 'that', 'is', 'so', 'pathetic', 'how', 'teams', 'get', 'away', 'with', 'that', 'shit', ''], ['yooooo', 'them', 'houstonastros', 'are', 'garbage', 'wow', 'they', 'better', 'get', 'they', 'shit', 'right', ''], ['not', 'even', 'the', 'players', 'give', 'a', 'shit', 'houstonastros', 'baseball', ''], ['that', 'ball', 'was', 'trapped', 'get', 'your', 'shit', 'together', 'mlb', 'replay', 'umpires', 'in', 'new', 'york', 'incompetent', 'as', 'fuck', 'giants', ''], ['this', 'team', 'will', 'absolutely', 'lose', '100', 'games', 'this', 'year', 'fans', 'need', 'to', 'stop', 'going', 'to', 'twin', 'games', 'immediately', 'fuck', 'the', 'pohlad', 's', ''], ['watching', 'the', 'is', 'like', 'beating', 'yourself', 'in', 'the', 'head', 'with', 'a', 'hammer', 'jepsen', ''], ['', 'jepsen', 'is', 'horse', 'shit', 'fuck', 'you', ''], ['braves', 'we', 're', 'going', 'to', 'be', 'abysmal', 'in', '2016', 'gonzalez', 'can', 't', 'make', 'chicken', 'soup', 'with', 'chicken', 's', 't', ''], ['the', 'braves', 'are', 'really', 'bad', 'at', 'baseball', '11', '4', 'braves', 'lose', 'again', 'in', 'bos', 'atl', 'they', 're', 'here', 'to', 'play', 'the', 'cubs', 'friday', 'sunday', ''], ['', 'braves', 'lose', 'again', 'out', 'of', '20', 'games', 'to', 'start', 'the', 'year', 'they', 've', 'won', 'only', '4', 'of', 'then', 'fall', '11', '4', 'to', 'the', 'redsox', 'and', 'to', '4', '16', 'on', 'the', 'year', ''], ['this', 'whole', 'it', 's', 'all', 'about', 'live', 'sports', 'content', 'has', 'bubble', 'signs', 'the', 'money', 'does', 'have', 'to', 'come', 'from', 'somewhere', 'greinke', 'deal', ''], ['', 'molina', 'is', 'a', 'little', 'ole', 'bitch', 'fuck', 'the', 'birds', 'fuck', 'the', 'cards', 'fuck', 'molina', 'ole', 'fuck', 'boy', 'ass', 'bitch', ''], ['king', 'bitch', 'was', 'benched', 'hope', 'he', 'doesn', 't', 'throw', 'a', 'tantrum', 'puig', ''], ['your', 'a', 'fucking', 'bitch', 'puig', 'sit', 'down', 'go', 'roll', 'some', 'cigars', 'stlcards', 'stlvslad', 'nlds', ''], ['glad', 'his', 'bitch', 'ass', 'didn', 't', 'win', 'espn', 'puig', 'the', 'media', 'ballooned', 'his', 'head', ''], ['', 'bestfansstlouis', 'redbirdsalm', 'eddiegreen82', 'he', 's', 'a', 'little', 'bitch', 'i', 'wish', 'he', 's', 'thugs', 'would', 'find', 'him', 'take', 'him', 'back', 'to', 'cuba', 'puig', ''], ['i', 'hate', 'that', 'fucker', 'punk', 'bitch', 'puig', 'fuckla', 'sfgiants', ''], ['if', 'you', 'going', 'to', 'talk', 'shit', 'at', 'least', 'put', 'your', 'name', 'next', 'to', 'the', 'quote', 'don', 't', 'be', 'a', 'pussy', 'puig', 'is', 'not', 'the', 'worst', 'person', 'in', 'baseball', ''], ['that', 's', 'what', 'you', 'fucking', 'get', 'dave', 'roberts', 'for', 'taking', 'out', 'ross', 'stripling', 'during', 'his', 'no', 'hitter', 'because', 'of', 'pitch', 'count', 'pussy', 'managing', 'mlbs', ''], ['yes', 'tylercollins', 'did', 'indeed', 'give', 'detroittigers', 'crowd', 'the', 'finger', 'and', 'mumbled', 'f', 'everybody', ''], ['mark', 'trumbo', 'leading', 'the', 'al', 'in', 'batting', 'avg', 'definitely', 'not', 'gonna', 'last', ''], ['mark', 'trumbo', 'is', 'killing', 'the', 'o', 's', 'on', 'defense', 'it', 's', 'a', 'slow', 'death', 'but', 'it', 's', 'happening', ''], ['', 'lylemspencer', 'mtrumbo44', 'i', 'never', 'have', 'seen', 'him', 'hotter', 'it', 'just', 'means', 'when', 'he', 'gets', 'into', 'one', 'of', 'his', 'slumps', 'it', 'will', 'be', 'a', 'long', 'one', ''], ['daniel', 'murphy', 'couldn', 't', 'do', 'that', 'lgm', ''], ['daniel', 'murphy', 'is', 'not', 'making', 'that', 'play', 'not', 'even', 'close', 'neil', 'walker', 'is', 'much', 'better', 'all', 'around', 'and', 'i', 'am', 'hype', ''], ['daniel', 'murphy', 'and', 'hunter', 'pence', 'are', 'both', 'so', 'awkward', 'easily', 'the', 'two', 'most', 'uncomfortable', 'people', 'to', 'watch', 'play', 'baseball', ''], ['daniel', 'murphy', 'will', 'surely', 'hit', 'a', 'slump', 'soon', ''], ['fuck', 'daniel', 'murphy', ''], ['daniel', 'murphy', 'at', 'this', 'point', 'is', 'not', 'hot', 'he', 's', 'actually', 'a', 'good', 'player', 'my', 'opinion', ''], ['pitchers', 'see', 'miggy', 'in', 'their', 'nightmares', 'you', 'could', 'see', 'him', 'at', 'the', 'asg', ''], ['lol', 'remember', 'when', 'mlb', 'overhyped', 'the', 'shit', 'out', 'of', 'the', 'red', 'sox', 'and', 'their', 'offense', 'before', 'the', '2015', 'season', ''], ['mlb', 'tv', 'is', 'trash', 'today', 'holy', 'shit', 'not', 'working', 'on', 'ps4', 'or', 'pc', ''], ['nice', 'one', 'dea', 'ho', 'but', 'the', 'commentator', 'is', 'too', 'noisy', 'and', 'disgusting', ''], ['i', 'm', 'confused', 'why', 'didn', 't', 'the', 'athletics', 'runner', 'score', 'in', 'that', 'first', 'inning', ''], ['stupid', 'fucking', 'music', 'ruins', 'it', ''], ['all', 'i', 'can', 'think', 'about', 'is', 'his', 'poor', 'arm', 'after', ''], ['at', 'least', 'injuries', 'are', 'not', 'deliberately', 'done', 'like', 'fucking', 'football', ''], ['oh', 'my', 'gosh', 'those', 'poor', 'people', ''], ['hudson', 'injury', 'is', 'brutal', 'oh', 'man', ''], ['stupid', 'sport', ''], ['that', 'stuff', 'would', 'suck', ''], ['that', 'guys', 'is', 'tough', 'as', 'hell', ''], ['baseball', 'is', 'such', 'a', 'bitch', 'sport', 'even', 'the', 'injuries', 'suck', ''], ['that', 'was', 'scary', ''], ['shut', 'the', 'fuck', 'up', 'minority', ''], ['my', 'brother', 'was', 'at', 'the', 'first', 'injury', ''], ['fuck', 'bautista', 'cocky', 'prick', ''], ['hate', 'the', 'yankees', 'so', 'much', ''], ['bautista', 'murders', 'pitchers', 'who', 'throw', 'at', 'him', 'just', 'ask', 'oday', ''], ['fuck', 'a', 'roid', 'the', 'fucking', 'cheat', ''], ['damn', 'daniel', ''], ['gomez', 'a', 'pervert', 'i', 'think', ''], ['who', 'the', 'hell', 'would', 'want', 'to', 'meet', 'that', 'scumbag', 'carlos', 'gomez', ''], ['u', 'suck', ''], ['u', 'suck', 'that', 'is', 'true', ''], ['fucking', 'gay', ''], ['horrible', 'game', ''], ['shame', 'he', 'got', 'injured', 'was', 'really', 'having', 'a', 'solid', 'year', ''], ['sucks', 'he', 's', 'gonna', 'miss', 'the', 'postseason', ''], ['totally', 'awesome', ''], ['is', 'my', 'favorite', ''], ['great', 'catch', ''], ['fuck', 'ya', 'pillar', 'go', 'jays', 'go', ''], ['the', 'teams', 'are', 'so', 'shitty', ''], ['goddamn', 'kiermaier', 'is', 'so', 'underrated', ''], ['god', 'ellsburry', 'is', 'a', 'terrible', 'fielder', ''], ['i', 'feel', 'so', 'bad', 'for', 'that', 'old', 'guy', 'with', 'the', 'fire', 'works', ''], ['and', 'i', 'thought', 'my', 'week', 'was', 'going', 'bad', ''], ['fuck', 'all', 'you', ''], ['curveball', 'is', 'so', 'nasty', ''], ['haters', 'gonna', 'hate', ''], ['', 'patcarroll11', 'after', 'seeing', 'your', 'top', '4', 'hated', 'teams', 'i', 'had', 'a', 'feeling', 'you', 'were', 'biased', 'against', 'a', 'lot', 'of', 'teams', 'brandonphillips', 'cleveland', ''], ['kick', 'his', 'ass', 'sea', 'bass', 'indians', 'royals', 'hannahan', ''], ['settle', 'down', 'you', 'weak', 'little', 'asian', 'man', 'jays', 'indians', 'you', 'got', 'nothing', 'mlb', ''], ['hey', 'buddy', 'the', 'ball', 'is', 'behind', 'you', 'it', 's', 'not', 'in', 'your', 'glove', 'puig', ''], ['diet', 'no', 'longer', 'the', 'primary', 'cause', 'of', 'high', 'blood', 'pressure', 'no', 'no', 'its', 'now', 'brian', 'wilson', 'wilson', 'facepalm', ''], ['why', 'does', 'mattingly', 'insist', 'on', 'still', 'using', 'wilson', 'in', 'important', 'situations', 'makes', 'absolutely', 'no', 'sense', ''], ['chris', 'sale', 's', 'curve', 'was', 'so', 'fucking', 'dirty', 'omg', ''], ['this', 'is', 'painful', 'to', 'watch', ''], ['some', 'players', 'dont', 'know', 'how', 'to', 'catch', ''], ['', 'inmetswetrust', 'and', 'u', 'can', 'trust', 'that', 'i', 'won', 't', 'fuck', 'up', 'like', 'daniel', 'murphy', 'did', ''], ['baseball', 'announcers', 'are', 'so', 'polite', 'daniel', 'murphy', 'fields', 'a', 'ball', 'i', 'm', 'quite', 'certain', 'my', '5', 'mo', 'old', 'could', 'handle', 'lauded', 'for', 'his', 'great', 'play', ''], ['daniel', 'murphy', 'showing', 'the', 'range', 'nice', 'easy', 'double', 'play', 'once', 'he', 'gets', 'there', 'with', 'molina', 'running', ''], ['daniel', 'murphy', 'was', 'a', 'huge', 'part', 'of', 'the', 'mets', 'run', 'last', 'year', 'but', 'w', 'the', 'progress', 'of', 'their', 'starting', 'pitchers', 'neil', 'walker', 'this', 'yrs', 'team', 'is', 'better', ''], ['this', 'daniel', 'murphy', 'move', 'was', 'so', 'solid', 'he', 's', 'a', 'hitting', 'machine', ''], ['daniel', 'murphy', 'is', 'one', 'mighty', 'fine', 'looking', 'man', ''], ['daniel', 'murphy', 'has', 'been', 'such', 'a', 'great', 'pick', 'up', ''], ['sick', 'at', 'least', 'daniel', 'murphy', 'is', 'bringing', 'all', 'the', 'hits', 'looks', 'like', 'laying', 'in', 'bed', 'with', 'baseball', 'and', 'draft', 'tweets', 'is', 'all', 'i', 'got', ''], ['daniel', 'murphy', 'well', 'done', 'nationals', ''], ['', 'meddoconlinedr', 'daniel', 'murphy', 'was', 'your', 'best', 'player', ''], ['enjoy', 'watching', 'how', 'hard', 'daniel', 'murphy', 'plays', 'the', 'game', ''], ['byung', 'ho', 'what', 'a', 'guy', 'favorite', 'player', 'on', 'the', 'entire', 'very', 'successful', 'roster', ''], ['byung', 'ho', 's', 'another', 'moon', 'shot', 'korean', 'call', ''], ['byung', 'ho', 's', 'monster', 'home', 'run', 'on', 'korean', 'play', 'by', 'play', 'very', 'cool', ''], ['seung', 'hwan', 'oh', 'has', 'emerged', 'as', '1', 'of', 'the', 'most', 'reliable', 'pitchers', 'in', 'this', 'bullpen', ''], ['good', 'to', 'see', 'seung', 'hwan', 'oh', 'pitch', 'two', 'scoreless', 'today', 'in', 'the', '7th', 'and', '8th', 'for', 'the', 'cardinals', 'the', 'korean', 'is', 'effective', ''], ['seung', 'hwan', 'oh', 'really', 'impressing', 'in', 'his', 'rookie', 'season', 'has', 'not', 'allowed', 'a', 'hit', ''], ['congratulations', 'to', 'seung', 'hwan', 'oh', 'on', 'his', 'first', 'career', 'major', 'league', 'win', ''], ['this', 'is', 'perfect', ''], ['i', 'didn', 't', 'understand', 'a', 'single', 'word', 'but', 'it', 'still', 'was', 'awesome', ''], ['', 'briandozier', 'can', 't', 'wait', 'to', 'get', 'to', 'the', 'clubhouse', 'for', 'their', 'postgame', 'dance', 'party', 'it', 's', 'good', 'to', 'be', 'back', 'home', ''], ['those', 'were', 'some', 'awesome', 'catches', ''], ['this', 'is', 'amazing', ''], ['they', 'have', 'such', 'nice', 'booty', ''], ['yeah', 'that', 'was', 'amazing', 'and', 'great', ''], ['one', 'of', 'the', 'reasons', 'why', 'i', 'love', 'baseball', ''], ['nice', 'video', 'exciting', 'to', 'watch', ''], ['so', 'nice', ''], ['touching', ''], ['it', 's', 'cool', 'that', 'the', 'players', 'do', 'that', ''], ['hes', 'going', 'to', 'do', 'better', 'next', 'year', ''], ['he', 's', 'got', 'a', 'pretty', 'good', 'curve', ''], ['i', 'love', 'this', 'guy', ''], ['thanks', 'for', 'your', 'ability', ''], ['my', 'favorite', 'player', ''], ['perfect', 'plays', 'and', 'bgm', ''], ['god', 'i', 'love', 'baseball', ''], ['keep', 'up', 'the', 'good', 'work', ''], ['awesome', 'video', 'great', 'channel', 'i', 'm', 'subbed', ''], ['nice', 'inside', 'the', 'home', 'runs', ''], ['good', 'running', ''], ['scoreless', 'innings', 'streak', 'snapped', 'for', 'cardinals', 'oh', 'seung', 'hwan', ''], ['seung', 'hwan', 'oh', 'has', 'been', 'quietly', 'awesome', 'in', 'the', 'first', 'tenth', 'of', 'the', 'season', 'great', 'signing', ''], ['good', 'to', 'see', 'seung', 'hwan', 'oh', 'pitch', 'two', 'scoreless', 'today', 'in', 'the', '7th', 'and', '8th', 'for', 'the', 'cardinals', 'the', 'korean', 'is', 'effective', ''], ['the', 'best', 'pitcher', 'in', 'major', 'league', 'baseball', ''], ['what', 'a', 'priceless', ''], ['i', 'm', 'looking', 'forward', 'to', 'kimbrel', 'closing', 'games', 'for', 'the', 'sox', ''], ['any', 'more', 'closer', 'relief', 'pitchers', 'in', 'mind', ''], ['love', 'kimbrel', ''], ['awesome', 'pitching', 'matchup', 'garcia', 'vs', 'greinke', ''], ['congrats', 'to', 'zack', 'greinke', 'on', 'his', 'first', 'career', 'pinch', 'hit', ''], ['dae', 'ho', 'a', 'multi', 'hit', 'game', 'today', ''], ['congrats', 'to', 'dae', 'ho', 'on', 'mlb', 'debut', 'today', 'with', 'here', 's', 'video', 'i', 'shot', '3', '26', 'in', 'az', 'crowd', 'chants', 'dae', 'ho', ''], ['omg', 'finalllly', 'dae', 'ho', 'gomariners', 'neededthat', 'win', 'walkoff', ''], ['he', 'used', 'to', 'be', 'a', 'slugger', 'for', 'both', 'korea', 'japan', 'now', 'he', 's', 'warming', 'up', 'for', 'the', 'big', 'league', 's', 'title', 'go', ''], ['beautiful', 'homerun', 'is', 'awesome', ''], ['', 'collins', 'rt', 'tigers', 'tyler', 'collins', 'with', 'a', 'diving', 'grab', 'to', 'end', 'the', 'sixth', 'inning', 'we', 're', 'still', 'scoreless', 'from', 'disney', 'tigers', ''], ['wish', 'i', 'had', 'some', 'kahlua', 'to', 'drink', 'in', 'shin', 'soo', 's', 'honor', 'for', 'tonight', 's', 'performance', 'indians', ''], ['thank', 'god', 'for', 'the', 'indians', 'need', 'him', 'right', 'now', 'c', 'mon', 'tribe', ''], ['the', 'greatest', 'throw', 'i', 've', 'ever', 'seen', 'puig', ''], ['lets', 'go', 'kershaw', 'you', 'got', 'dogers', 'nohitter', 'kershaw', ''], ['', 'looked', 'good', 'tonight', 'kershaw', 'was', 'dealing', 'thinkblue', 'go', 'dogers', ''], ['i', 'm', 'pretty', 'sure', 'neil', 'walker', 'is', 'my', 'favorite', 'nl', '2nd', 'baseman', 'mlb', ''], ['there', 's', 'our', 'mvp', 'donaldson', 'jays', ''], ['what', 'a', 'beautiful', 'double', 'play', 'machado', ''], ['i', 'm', 'just', 'say', 'it', 'now', 'i', 'believe', 'they', 'win', 'this', 'game', 'cubs', 'gocubsgo', 'arrieta', ''], ['baseball', 'has', 'never', 'seen', 'a', 'pitcher', 'like', 'noah', 'syndergaard', 'and', 'it', 's', 'raising', 'one', 'big', 'concern', 'http', 'uk', 'businessinsider', 'com', 'noah', 'syndergaards', 'pitching', 'raising', 'big', 'concern', '2016', '4', 'mets', ''], ['', 'noah', 'syndergaard', 'has', 'pitch', 'that', 's', 'nearly', 'impossible', 'hit', 'it', 's', 'baffling', 'baseball', 'world', ''], ['thor', 'the', 'boss', 'syndergaard', 'mets', 'lgm', ''], ['so', 'not', 'only', 'is', 'syndergaard', 'hot', 'he', 's', 'also', 'a', 'beast', '34', 'mets', ''], ['awesome', 'job', 'today', 'noahsyndergaard', 'was', 'so', 'much', 'fun', 'watching', 'in', 'person', 'lgm', 'mets', 'nymets', 'metswin', 'syndergaard', ''], ['', 'syndergaard', 'is', 'a', 'monster', ''], ['kkk', 'final', 'boss', ''], ['yes', 'uribe', 'still', 'love', 'you', 'papi', ''], ['yeah', 'he', 'played', 'in', 'a', 'small', 'stadium', 'but', 'most', 'of', 'his', 'homers', 'cleared', 'the', 'fence', 'by', 'about', '30', '40', 'feet', ''], ['wow', 'dudes', 'like', 'a', 'korean', 'barry', 'bonds', 'what', 'quick', 'bat', 'unreal', 'power', ''], ['bryce', 'harper', 'is', 'awesome', 'lets', 'go', 'nats', ''], ['guy', 'was', 'beast', ''], ['i', 'love', 'you', 'mike', 'trout', ''], ['s', 'rodriguez', 'is', 'the', 'best', 'defensive', 'player', 'on', 'the', 'i', 'would', 'love', 'to', 'see', 'a', 'defensive', 'highlight', 'reel', 'of', 'his', ''], ['helton', 's', 'play', 'and', 'the', 'way', 'he', 'just', 'ran', 'in', 'to', 'the', 'dugout', 'has', 'me', 'laughing', 'everytime', ''], ['on', 'his', 'way', 'back', 'darvish', ''], ['mlb', 'the', '5', 'best', 'japanese', 'pitchers', 'in', 'baseball', 'history', 'http', 'cht', 'st', 'pyhfs', 'mlb', 'maeda', 'redsox', 'darvish', 'nomo', ''], ['i', 'really', 'hope', 'darvish', 'pitches', 'for', 'frisco', 'on', 'the', '28th', 'and', 'not', 'the', '26th', 'i', 'really', 'wanna', 'go', 'but', 'can', 't', 'skip', 'working', 'a', 'ranger', 'yankee', 'game', ''], ['sagelinq', 'sports', 'yu', 'darvish', 'is', 'impressed', 'with', 'his', 'velocity', 'after', 'tommy', 'john', 'surgery', 'http', 'www', 'sagelinq', 'com', 'apxc', 'mp3', ''], ['', 'darvish', 'feels', 'strong', 'hopeful', 'for', 'mid', 'may', 'return', ''], ['i', 'hope', 'yu', 'darvish', 'will', 'going', 'back', 'next', 'year', 'with', 'that', 'kind', 'of', 'slider', ''], ['best', 'part', 'about', 'the', '2016', 'team', 'no', 'more', 'ross', 'freaking', 'detwiler', 'and', 'darvish', 'hopefully', 'a', 'lot', 'of', 'darvish', ''], ['awesome', 'to', 'see', 'darvish', 'top', 'of', 'dugout', 'every', 'night', 'letsgorangers', ''], ['here', 's', 'osaka', 's', 'own', 'mlb', 'superstar', 'yudarvish', 'warming', 'up', 'he', 's', 'even', 'more', 'amazing', 'in', 'person', 'darvish', 'baseball', ''], ['', 'darvish', 'and', 'that', 'beast', 'arm', 'gorangers', ''], ['', 'yu', 'darvish', 'is', 'the', 'first', 'pitcher', 'to', 'win', 'at', 'least', '10', 'games', 'in', 'his', '1st', '3', 'mlb', 'seasons', ''], ['s', 'adjusting', 'just', 'fine', 'and', 'he', 'will', 'continue', 'doing', 'better', 'i', 'm', 'sure', 'of', 'it', ''], ['', 'scottmerkin', 'have', 'a', 'great', 'year', 'john', 'danks', ''], ['simmons', 'is', 'the', 'best', 'shortstop', 'in', 'baseball', 'as', 'of', 'now', ''], ['this', 'is', 'awesome', 'atta', 'boy', 'pujols', ''], ['dustin', 'pedroia', 'twice', 'nice', 'grab', ''], ['nice', 'job', ''], ['robinson', 'catch', 'was', 'fucking', 'beautiful', ''], ['i', 'love', 'you', 'cesar', '']]\n"
     ]
    }
   ],
   "source": [
    "Exceptwordlist = [\"hyunjinryu\", \"hyunjin\", \"ryu\", \"la\", \"dodgers\", \"ladodgers\",   \n",
    "                 \"byeonghopark\", \"byeongho\", \"park\", \"twins\", \"minnesota\", \"minnesotatwins\",\n",
    "                 \"hyunsookim\", \"hyunsoo\", \"kim\", \"orioles\", \"baltimore\", \"baltimoreorioles\",\n",
    "                 \"daeholee\", \"daeho\", \"lee\", \"mariners\", \"seattle\", \"seattlemariners\",\n",
    "                 \"junghokang\", \"jungho\", \"kang\", \"pirates\", \"pittsburgh\", \"pittsburghpirtes\",\n",
    "                 \"sinsoochoo\", \"sinsoo\", \"choo\", \"rangers\", \"texas\", \"texasrangers\", \" \"]\n",
    "\n",
    "for i in range(idx):\n",
    "    t = []\n",
    "    for word in DocList[i]:\n",
    "        word = word.upper().lower()\n",
    "        if word not in Exceptwordlist:\n",
    "            t.append(word)\n",
    "   \n",
    "    DocList[i] = t\n",
    "\n",
    "print DocList"
   ]
  },
  {
   "cell_type": "markdown",
   "metadata": {},
   "source": [
    "### 3.2 Classifier Learning"
   ]
  },
  {
   "cell_type": "code",
   "execution_count": 50,
   "metadata": {
    "collapsed": false
   },
   "outputs": [],
   "source": [
    "import bayes\n",
    "reload(bayes)\n",
    "\n",
    "myVocabList = bayes.createVocabList(DocList)\n",
    "\n",
    "trainMat=[]\n",
    "int_classVec = []\n",
    "\n",
    "for postinDoc in DocList:\n",
    "    trainMat.append(bayes.setOfWords2Vec(myVocabList, postinDoc))\n",
    "\n",
    "for str_class in ClassVec:\n",
    "    int_class = int(str_class)\n",
    "    int_classVec.append(int_class)\n",
    "\n",
    "p0V,p1V,pAb=bayes.trainNB0(trainMat,int_classVec)"
   ]
  },
  {
   "cell_type": "markdown",
   "metadata": {},
   "source": [
    "### 3.3 Analysis Results of Local Assesment for Korean Majorleager "
   ]
  },
  {
   "cell_type": "markdown",
   "metadata": {},
   "source": [
    "#### Validation_KoreanMLB.txt - 긍정(10개) 및 부정(5개)에 대한 Sentense 분석\n",
    "\n",
    "* Positive Sentences (10)"
   ]
  },
  {
   "cell_type": "markdown",
   "metadata": {},
   "source": [
    "1. Byung Ho Park. What a guy. Favorite player on the entire very successful Twins Roster\n",
    "2. Byung Ho #Park's another moon shot (Korean call)\n",
    "3. Byung Ho Park's monster home run on Korean play-by-play. Very cool!  \n",
    "4. Seung-hwan Oh has emerged as 1  of the most reliable pitchers in this bullpen. \n",
    "5. Good to see Seung Hwan Oh pitch two scoreless today in the 7th and 8th for the Cardinals.  The Korean is effective. \n",
    "6. Seung Hwan Oh really impressing in his \"rookie\" season. Has not allowed a hit\n",
    "7. Congratulations to Seung Hwan Oh on his first career Major League win! \n",
    "8. Scoreless innings streak snapped for Cardinals' Oh Seung-hwan \n",
    "9. Good to see Seung Hwan Oh pitch two scoreless today in the 7th and 8th for the Cardinals.  The Korean is effective\n",
    "10. In 2006, Dae Ho Lee was a triple crown winner in KBO but lost out on the MVP award to a 19 year-old rookie named Hyun-Jin Ryu."
   ]
  },
  {
   "cell_type": "markdown",
   "metadata": {},
   "source": [
    "* Negative Sentences (5)"
   ]
  },
  {
   "cell_type": "markdown",
   "metadata": {},
   "source": [
    "1. Hyun Soo Kim’s Agency Says He Won’t Accept Minors…\n",
    "2. Jeong Ho Kang is hurt ~ fuck\n",
    "3. Choo is sufferred from injury for a long time\n",
    "4. Coach has not trust by hyun soo kim yet~!!\n",
    "5. jeonghokang can not get out of injury  "
   ]
  },
  {
   "cell_type": "markdown",
   "metadata": {},
   "source": [
    "#### Analysis Results"
   ]
  },
  {
   "cell_type": "code",
   "execution_count": 51,
   "metadata": {
    "collapsed": false
   },
   "outputs": [
    {
     "name": "stdout",
     "output_type": "stream",
     "text": [
      "the word: Byung is not in my Vocabulary!\n",
      "the word: Ho is not in my Vocabulary!\n",
      "the word: Park is not in my Vocabulary!\n",
      "the word: What is not in my Vocabulary!\n",
      "the word: Favorite is not in my Vocabulary!\n",
      "the word: Twins is not in my Vocabulary!\n",
      "the word: Roster is not in my Vocabulary!\n",
      "classified as:  1\n",
      "Byung Ho Park. What a guy. Favorite player on the entire very successful Twins Roster\n",
      "\n",
      "the word: Byung is not in my Vocabulary!\n",
      "the word: Ho is not in my Vocabulary!\n",
      "the word: Park is not in my Vocabulary!\n",
      "the word: Korean is not in my Vocabulary!\n",
      "classified as:  1\n",
      "Byung Ho #Park's another moon shot (Korean call)\n",
      "\n",
      "the word: Byung is not in my Vocabulary!\n",
      "the word: Ho is not in my Vocabulary!\n",
      "the word: Park is not in my Vocabulary!\n",
      "the word: Korean is not in my Vocabulary!\n",
      "the word: Very is not in my Vocabulary!\n",
      "classified as:  1\n",
      "Byung Ho Park's monster home run on Korean play-by-play. Very cool!  \n",
      "\n",
      "the word: Seung is not in my Vocabulary!\n",
      "the word: Oh is not in my Vocabulary!\n",
      "classified as:  1\n",
      "Seung-hwan Oh has emerged as 1  of the most reliable pitchers in this bullpen. \n",
      "\n",
      "the word: Good is not in my Vocabulary!\n",
      "the word: Seung is not in my Vocabulary!\n",
      "the word: Hwan is not in my Vocabulary!\n",
      "the word: Oh is not in my Vocabulary!\n",
      "the word: Cardinals is not in my Vocabulary!\n",
      "the word: The is not in my Vocabulary!\n",
      "the word: Korean is not in my Vocabulary!\n",
      "classified as:  1\n",
      "Good to see Seung Hwan Oh pitch two scoreless today in the 7th and 8th for the Cardinals.  The Korean is effective. \n",
      "\n",
      "the word: Seung is not in my Vocabulary!\n",
      "the word: Hwan is not in my Vocabulary!\n",
      "the word: Oh is not in my Vocabulary!\n",
      "the word: Has is not in my Vocabulary!\n",
      "classified as:  1\n",
      "Seung Hwan Oh really impressing in his \"rookie\" season. Has not allowed a hit\n",
      "\n",
      "the word: Congratulations is not in my Vocabulary!\n",
      "the word: Seung is not in my Vocabulary!\n",
      "the word: Hwan is not in my Vocabulary!\n",
      "the word: Oh is not in my Vocabulary!\n",
      "the word: Major is not in my Vocabulary!\n",
      "the word: League is not in my Vocabulary!\n",
      "classified as:  1\n",
      "Congratulations to Seung Hwan Oh on his first career Major League win! \n",
      "\n",
      "the word: Scoreless is not in my Vocabulary!\n",
      "the word: Cardinals is not in my Vocabulary!\n",
      "the word: Oh is not in my Vocabulary!\n",
      "the word: Seung is not in my Vocabulary!\n",
      "classified as:  1\n",
      "Scoreless innings streak snapped for Cardinals' Oh Seung-hwan \n",
      "\n",
      "the word: Good is not in my Vocabulary!\n",
      "the word: Seung is not in my Vocabulary!\n",
      "the word: Hwan is not in my Vocabulary!\n",
      "the word: Oh is not in my Vocabulary!\n",
      "the word: Cardinals is not in my Vocabulary!\n",
      "the word: The is not in my Vocabulary!\n",
      "the word: Korean is not in my Vocabulary!\n",
      "classified as:  1\n",
      "Good to see Seung Hwan Oh pitch two scoreless today in the 7th and 8th for the Cardinals.  The Korean is effective\n",
      "\n",
      "the word: In is not in my Vocabulary!\n",
      "the word: 2006 is not in my Vocabulary!\n",
      "the word: Dae is not in my Vocabulary!\n",
      "the word: Ho is not in my Vocabulary!\n",
      "the word: Lee is not in my Vocabulary!\n",
      "the word: triple is not in my Vocabulary!\n",
      "the word: crown is not in my Vocabulary!\n",
      "the word: winner is not in my Vocabulary!\n",
      "the word: KBO is not in my Vocabulary!\n",
      "the word: lost is not in my Vocabulary!\n",
      "the word: MVP is not in my Vocabulary!\n",
      "the word: award is not in my Vocabulary!\n",
      "the word: 19 is not in my Vocabulary!\n",
      "the word: named is not in my Vocabulary!\n",
      "the word: Hyun is not in my Vocabulary!\n",
      "the word: Jin is not in my Vocabulary!\n",
      "the word: Ryu is not in my Vocabulary!\n",
      "classified as:  1\n",
      "In 2006, Dae Ho Lee was a triple crown winner in KBO but lost out on the MVP award to a 19 year-old rookie named Hyun-Jin Ryu.\n",
      "\n",
      "the word: Hyun is not in my Vocabulary!\n",
      "the word: Soo is not in my Vocabulary!\n",
      "the word: Kim is not in my Vocabulary!\n",
      "the word: Agency is not in my Vocabulary!\n",
      "the word: Says is not in my Vocabulary!\n",
      "the word: He is not in my Vocabulary!\n",
      "the word: Won is not in my Vocabulary!\n",
      "the word: Accept is not in my Vocabulary!\n",
      "the word: Minors is not in my Vocabulary!\n",
      "classified as:  0\n",
      "Hyun Soo Kim��s Agency Says He Won��t Accept Minors��\n",
      "\n",
      "the word: Jeong is not in my Vocabulary!\n",
      "the word: Ho is not in my Vocabulary!\n",
      "the word: Kang is not in my Vocabulary!\n",
      "the word: hurt is not in my Vocabulary!\n",
      "classified as:  0\n",
      "Jeong Ho Kang is hurt ~ fuck\n",
      "\n",
      "the word: Choo is not in my Vocabulary!\n",
      "the word: sufferred is not in my Vocabulary!\n",
      "classified as:  0\n",
      "Choo is sufferred from injury for a long time\n",
      "\n",
      "the word: Coach is not in my Vocabulary!\n",
      "the word: kim is not in my Vocabulary!\n",
      "classified as:  1\n",
      "Coach has not trust by hyun soo kim yet~!!\n",
      "\n",
      "the word: jeonghokang is not in my Vocabulary!\n",
      "classified as:  0\n",
      "jeonghokang can not get out of injury  \n"
     ]
    }
   ],
   "source": [
    "import numpy\n",
    "\n",
    "file =open('Validation_KoreanMLB.txt')\n",
    "\n",
    "TestDoc = []\n",
    "regEx = re.compile('\\\\W*')\n",
    "\n",
    "for i in file.readlines():\n",
    "    TestDoc.append(i)\n",
    "    \n",
    "for doc in TestDoc:\n",
    "    testEntry = regEx.split(doc)\n",
    "    thisDoc = numpy.array(bayes.setOfWords2Vec(myVocabList, testEntry))\n",
    "    print 'classified as: ', bayes.classifyNB(thisDoc, p0V, p1V, pAb)\n",
    "    print doc"
   ]
  },
  {
   "cell_type": "markdown",
   "metadata": {},
   "source": [
    "## 4. Conclusions"
   ]
  },
  {
   "cell_type": "markdown",
   "metadata": {},
   "source": [
    "#### Validation Data 15개 중 잘 분류된 케이스 : 14개 & 잘못 분류된 케이스 : 1개"
   ]
  },
  {
   "cell_type": "markdown",
   "metadata": {},
   "source": [
    "* 잘 분류된 케이스(14개)는 200개의 표본 데이터를 기반으로 했을 때 문장 내 단어 선정이 명확하고, 확실하기 때문에 잘 분류된 것으로 판단함\n",
    "* 하지만,\n",
    "  14번째 문장 \"Coach has not trust by hyun soo kim yet~!!\"는 200개의 표본 데이터를 기반으로 했을 때 문장 내 단어 선정이 명확하지 않았고, Validation Data의 문장 내 단어들이 불명확하기 때문에 잘못 분류된 것으로 판단함~!!\n",
    "* 결론적으로, 15개 중에 14개의 잘 분류된 케이스를 통해 93.33%의 정확률을 나타냄\n",
    "* 실제 200개의 표본 데이터만을 이용하여 MLB의 현지 여론을 정확하게 분석할 수는 없지만, 이를 기반으로 조금 더 많은 표본 데이터 및 조금 더 정확한 MLB 여론에 대한 긍정 및 부정 Sentences를 수집하여 재조사한다면 더욱 더 의미있는 결론을 도출할 수 있을 것이라 생각됨ᅠᅠ"
   ]
  }
 ],
 "metadata": {
  "kernelspec": {
   "display_name": "Python 2",
   "language": "python",
   "name": "python2"
  },
  "language_info": {
   "codemirror_mode": {
    "name": "ipython",
    "version": 2
   },
   "file_extension": ".py",
   "mimetype": "text/x-python",
   "name": "python",
   "nbconvert_exporter": "python",
   "pygments_lexer": "ipython2",
   "version": "2.7.11"
  }
 },
 "nbformat": 4,
 "nbformat_minor": 0
}
