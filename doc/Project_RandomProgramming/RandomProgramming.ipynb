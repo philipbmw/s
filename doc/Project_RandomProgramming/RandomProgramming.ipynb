{
 "cells": [
  {
   "cell_type": "markdown",
   "metadata": {},
   "source": [
    "## 랜덤프로그래밍 과제\n",
    "* 랜덤프로그램\n",
    "* 통계분석"
   ]
  },
  {
   "cell_type": "code",
   "execution_count": 65,
   "metadata": {
    "collapsed": false,
    "scrolled": true
   },
   "outputs": [
    {
     "name": "stdout",
     "output_type": "stream",
     "text": [
      "RandomArray : [3, 9, 0, 9, 0, 1, 1, 0, 10, 0, 0, 1, 8, 9, 1, 10, 10, 6, 3, 1, 10, 7, 3, 4, 10, 1, 4, 10, 2, 9, 4, 2, 4, 7, 3, 0, 2, 10, 7, 7, 5, 1, 10, 3, 6, 7, 1, 10, 9, 8, 5, 10, 10, 3, 7, 9, 2, 6, 3, 3, 3, 0, 1, 5, 1, 2, 0, 7, 7, 9, 5, 5, 6, 2, 5, 5, 9, 9, 0, 4, 6, 7, 10, 10, 10, 1, 9, 7, 0, 4, 5, 0, 4, 10, 1, 0, 2, 9, 7, 1]\n",
      "\n",
      "\n",
      "RandomArray Mean : 5.25\n",
      "RandomArray Standard Deviation : 3.07693028845\n",
      "RandomArray Variance : 9.4675\n"
     ]
    },
    {
     "data": {
      "image/png": "[encoded data removed]",
      "text/plain": [
       "<matplotlib.figure.Figure at 0x99ca518>"
      ]
     },
     "metadata": {},
     "output_type": "display_data"
    }
   ],
   "source": [
    "# Python Documentation_random() 참조~!!\n",
    "# https://docs.python.org/2/library/random.html\n",
    "\n",
    "%matplotlib inline\n",
    "\n",
    "import random\n",
    "import numpy as np\n",
    "import matplotlib\n",
    "\n",
    "#Interger from 1 to 10\n",
    "# random.randint(1, 10)\n",
    "\n",
    "# Generating RandomArray\n",
    "RandomArray=[]\n",
    "\n",
    "# Generating RandomArray of 100 from 0 to 10\n",
    "for i in range(100):\n",
    "    RandomArray.append(np.random.randint(0,11))\n",
    "    \n",
    "print \"RandomArray : %s\" %RandomArray\n",
    "print('\\n')\n",
    "\n",
    "# RandomArray의 Mean(평균), Standard Deviation(표준편차), Variance (분산) Calculation\n",
    "RandomArrayMean = np.mean(RandomArray)\n",
    "RandomArraySD = np.std(RandomArray)\n",
    "RandomArrayVar = np.var(RandomArray)\n",
    "\n",
    "print \"RandomArray Mean : %s\" %RandomArrayMean\n",
    "print \"RandomArray Standard Deviation : %s\" %RandomArraySD\n",
    "print \"RandomArray Variance : %s\" %RandomArrayVar\n",
    "\n",
    "\n",
    "# Draw Histogram Distribution by RandomArray from 0 to 10 \n",
    "pylab.figure(2)\n",
    "pylab.title('Histogram Distribution')\n",
    "pylab.xlabel('Random Number')\n",
    "pylab.ylabel('Distribution')\n",
    "pylab.hist(RandomArray)\n",
    "\n",
    "pylab.show()"
   ]
  },
  {
   "cell_type": "markdown",
   "metadata": {},
   "source": [
    "### 결론적으로, \n",
    "#### RandomArray 배열을 선언하여 0부터 10까지의 난수를 랜덤하게 발생시키고 \n",
    "#### 100개의 난수에 대해 각각 평균, 표준편차, 분산을 구하고, 그에 대한 분포를 실제 히스토그램 분포를 통해 나타냄으로써 \n",
    "#### 100개의 난수에 대한 랜덤프로그램 및 통계적 분석을 이룸\n"
   ]
  }
 ],
 "metadata": {
  "kernelspec": {
   "display_name": "Python 2",
   "language": "python",
   "name": "python2"
  },
  "language_info": {
   "codemirror_mode": {
    "name": "ipython",
    "version": 2
   },
   "file_extension": ".py",
   "mimetype": "text/x-python",
   "name": "python",
   "nbconvert_exporter": "python",
   "pygments_lexer": "ipython2",
   "version": "2.7.11"
  }
 },
 "nbformat": 4,
 "nbformat_minor": 0
}
