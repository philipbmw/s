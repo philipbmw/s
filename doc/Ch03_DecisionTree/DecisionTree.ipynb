{
 "cells": [
  {
   "cell_type": "markdown",
   "metadata": {},
   "source": [
    "# 3장 의사결정트리: 한 번에 하나의 속성으로 데이터 집합 분할하기"
   ]
  },
  {
   "cell_type": "markdown",
   "metadata": {},
   "source": [
    "학습목표\n",
    "* 의사결정 트리 소개\n",
    "* 데이터 집합에서 일관성 측정하기\n",
    "* 의사결정 트리 구축을 위한 반복 사용\n",
    "* 매스플롯라이브러리에서 트리 플롯하기"
   ]
  },
  {
   "cell_type": "markdown",
   "metadata": {},
   "source": [
    "## 3.1 트리 구조"
   ]
  },
  {
   "cell_type": "markdown",
   "metadata": {},
   "source": [
    "### 3.1.1 정보 이득"
   ]
  },
  {
   "cell_type": "markdown",
   "metadata": {},
   "source": [
    "#### 리스팅 3.1 데이터 집합의 섀넌 엔트로피를 계산하는 함수"
   ]
  },
  {
   "cell_type": "code",
   "execution_count": 6,
   "metadata": {
    "collapsed": true
   },
   "outputs": [],
   "source": [
    "from math import log\n",
    "\n",
    "# calShannonEnt 함수\n",
    "# dataSet: 엔트로피 계산을 원하는 데이터 집합\n",
    "# shannonEnt: 엔트로피 값\n",
    "def calcShannonEnt(dataSet):\n",
    "    numEntries = len(dataSet)\n",
    "    labelCounts = {}\n",
    "    # 가능한 모든 분류 항목에 대한 딕셔너리 생성\n",
    "    for featVec in dataSet:\n",
    "        currentLabel = featVec[-1]\n",
    "        if currentLabel not in labelCounts.keys():\n",
    "            labelCounts[currentLabel] = 0\n",
    "        labelCounts[currentLabel] += 1\n",
    "    # 섀넌 엔트로피 계산\n",
    "    shannonEnt = 0.0\n",
    "    for key in labelCounts:\n",
    "        prob = float(labelCounts[key]) / numEntries\n",
    "        shannonEnt -= prob * log(prob, 2)  # 밑수가 2인 로그\n",
    "    return shannonEnt"
   ]
  },
  {
   "cell_type": "code",
   "execution_count": 7,
   "metadata": {
    "collapsed": false
   },
   "outputs": [
    {
     "name": "stdout",
     "output_type": "stream",
     "text": [
      "[[1, 1, 'yes'], [1, 1, 'yes'], [1, 0, 'no'], [0, 1, 'no'], [0, 1, 'no']]\n",
      " = 0.970951\n",
      "[[1, 1, 'maybe'], [1, 1, 'yes'], [1, 0, 'no'], [0, 1, 'no'], [0, 1, 'no']]\n",
      " = 1.370951\n"
     ]
    }
   ],
   "source": [
    "# createDataSet 함수\n",
    "# dataSet: 데이터 집합\n",
    "# labels: 속성 집합\n",
    "def createDataSet():\n",
    "    dataSet = [[1, 1, 'yes'],\n",
    "               [1, 1, 'yes'],\n",
    "               [1, 0, 'no'],\n",
    "               [0, 1, 'no'],\n",
    "               [0, 1, 'no']]\n",
    "    labels = ['no surfacing', 'flippers']\n",
    "    return dataSet, labels\n",
    "\n",
    "# calShannonEnt 사용 예제\n",
    "myDat, labels = createDataSet()\n",
    "print myDat\n",
    "print \" = %f\" % calcShannonEnt(myDat)\n",
    "myDat[0][-1] = 'maybe'\n",
    "print myDat\n",
    "print \" = %f\" % calcShannonEnt(myDat)"
   ]
  },
  {
   "cell_type": "markdown",
   "metadata": {},
   "source": [
    "### 3.1.2 데이터 집합 분할하기"
   ]
  },
  {
   "cell_type": "markdown",
   "metadata": {},
   "source": [
    "#### 리스팅 3.2 주어진 속성으로 데이터 집합 분할하기"
   ]
  },
  {
   "cell_type": "code",
   "execution_count": 8,
   "metadata": {
    "collapsed": true
   },
   "outputs": [],
   "source": [
    "# splitDataSet 함수\n",
    "# dataSet: 분할하고자 하는 데이터 집합\n",
    "# axis: 분할하고자 하는 속성\n",
    "# value: 반환할 속성의 값\n",
    "# retDataSet: 분할된 데이터 집합\n",
    "def splitDataSet(dataSet, axis, value):\n",
    "    retDataSet = []  # 분할 리스트 생성\n",
    "    for featVec in dataSet:\n",
    "        if featVec[axis] == value:\n",
    "            reducedFeatVec = featVec[:axis]\n",
    "            reducedFeatVec.extend(featVec[axis+1:])\n",
    "            retDataSet.append(reducedFeatVec)\n",
    "    return retDataSet"
   ]
  },
  {
   "cell_type": "markdown",
   "metadata": {},
   "source": [
    "#### 리스팅 3.3 데이터 분할 시 가장 좋은 속성 선택하기"
   ]
  },
  {
   "cell_type": "code",
   "execution_count": 9,
   "metadata": {
    "collapsed": true
   },
   "outputs": [],
   "source": [
    "def chooseBestFeatureToSplit(dataSet):\n",
    "    numFeatures = len(dataSet[0]) - 1  # 속성 개수\n",
    "    baseEntropy = calcShannonEnt(dataSet)  # 분할 전 데이터 집합의 엔트로피\n",
    "    bestInfoGain = 0.0; bestFeature = -1\n",
    "    for i in range(numFeatures):\n",
    "        featList = [example[i] for example in dataSet]\n",
    "        uniqueVals = set(featList)  # 분류 항목 표시에 대해 중복이 없는 리스트 생성\n",
    "        newEntropy = 0.0\n",
    "        for value in uniqueVals:\n",
    "            subDataSet = splitDataSet(dataSet, i, value)\n",
    "            prob = len(subDataSet) / float(len(dataSet))\n",
    "            newEntropy += prob * calcShannonEnt(subDataSet)  # 각각의 분할을 위해 엔트로피 계산\n",
    "        infoGain = baseEntropy - newEntropy\n",
    "        if(infoGain > bestInfoGain):  # 가장 큰 정보 이득 찾기\n",
    "            bestInfoGain = infoGain\n",
    "            bestFeature = i\n",
    "    return bestFeature"
   ]
  },
  {
   "cell_type": "code",
   "execution_count": 10,
   "metadata": {
    "collapsed": true
   },
   "outputs": [],
   "source": [
    "def majorityCnt(classList):\n",
    "    classCount={}\n",
    "    for vote in classList:\n",
    "        if vote not in classCount.keys(): classCount[vote] = 0\n",
    "        classCount[vote] += 1\n",
    "    sortedClassCount = sorted(classCount.iteritems(), key=operator.itemgetter(1), reverse=True)  # count 횟수로 내림차순 정렬\n",
    "    return sortedClassCount[0][0]"
   ]
  },
  {
   "cell_type": "markdown",
   "metadata": {},
   "source": [
    "### 3.1.3 재귀적으로 트리 만들기"
   ]
  },
  {
   "cell_type": "markdown",
   "metadata": {},
   "source": [
    "#### 리스팅 3.4 트리 만들기 코드"
   ]
  },
  {
   "cell_type": "code",
   "execution_count": 11,
   "metadata": {
    "collapsed": true
   },
   "outputs": [],
   "source": [
    "# createTree 함수\n",
    "# dataSet: 데이터 집합\n",
    "# labels: 속성 집합\n",
    "# myTree: 트리\n",
    "def createTree(dataSet, labels):\n",
    "    classList = [example[-1] for example in dataSet]\n",
    "    if classList.count(classList[0]) == len(classList):  # 모든 분류 항목이 같을 때 멈춤\n",
    "        return classList[0]\n",
    "    if len(dataSet[0]) == 1:  # 속성이 더 이상 없을 때 가장 많은 수를 반환함\n",
    "        return majorityCnt(classList)\n",
    "    bestFeat = chooseBestFeatureToSplit(dataSet)  # 최적 속성 찾기\n",
    "    bestFeatLabel = labels[bestFeat]  # 최적 속성 이름 저장\n",
    "    myTree = {bestFeatLabel:{}}  # 가지 추가\n",
    "    del(labels[bestFeat]) # 분류된 집합 제거\n",
    "    featValues = [example[bestFeat] for example in dataSet]\n",
    "    uniqueVals = set(featValues)  # 유일한 값의 리스트를 구함\n",
    "    for value in uniqueVals:\n",
    "        subLabels = labels[:] # 중첩이 이루어지기 전에 복사물을 만듬\n",
    "        myTree[bestFeatLabel][value] = createTree(splitDataSet(dataSet, bestFeat, value), subLabels)  # 재귀 결과 트리 추가\n",
    "    return myTree"
   ]
  },
  {
   "cell_type": "code",
   "execution_count": 12,
   "metadata": {
    "collapsed": false,
    "scrolled": true
   },
   "outputs": [
    {
     "name": "stdout",
     "output_type": "stream",
     "text": [
      "[[1, 1, 'yes'], [1, 1, 'yes'], [1, 0, 'no'], [0, 1, 'no'], [0, 1, 'no']]\n"
     ]
    }
   ],
   "source": [
    "# createTree 사용 예제\n",
    "myDat, labels = createDataSet()\n",
    "print myDat\n",
    "# print labels\n",
    "\n",
    "# myTree = createTree(myDat, labels)\n",
    "# print myTree"
   ]
  },
  {
   "cell_type": "code",
   "execution_count": 13,
   "metadata": {
    "collapsed": false
   },
   "outputs": [
    {
     "name": "stdout",
     "output_type": "stream",
     "text": [
      "Best feature is 0\n"
     ]
    }
   ],
   "source": [
    "myDat, labels = createDataSet()\n",
    "print \"Best feature is %d\" % chooseBestFeatureToSplit(myDat)"
   ]
  },
  {
   "cell_type": "code",
   "execution_count": 14,
   "metadata": {
    "collapsed": false
   },
   "outputs": [
    {
     "name": "stdout",
     "output_type": "stream",
     "text": [
      "[[1, 1, 'yes'], [1, 1, 'yes'], [1, 0, 'no'], [0, 1, 'no'], [0, 1, 'no']]\n",
      "['no surfacing', 'flippers']\n",
      "{'no surfacing': {0: 'no', 1: {'flippers': {0: 'no', 1: 'yes'}}}}\n"
     ]
    }
   ],
   "source": [
    "# createTree 사용 예제\n",
    "MyDat, labels = createDataSet()\n",
    "print myDat\n",
    "print labels\n",
    "\n",
    "myTree = createTree(myDat, labels)\n",
    "print myTree"
   ]
  },
  {
   "cell_type": "markdown",
   "metadata": {},
   "source": [
    "## 3.2 매스플롯라이브러리 주석으로 파이썬에서 트리 플롯하기"
   ]
  },
  {
   "cell_type": "markdown",
   "metadata": {},
   "source": [
    "### 3.2.1 매스플롯라이브러리 주석"
   ]
  },
  {
   "cell_type": "markdown",
   "metadata": {},
   "source": [
    "#### 리스팅 3.5 텍스트 주석을 가진 트리 노드 플롯하기"
   ]
  },
  {
   "cell_type": "code",
   "execution_count": 17,
   "metadata": {
    "collapsed": true
   },
   "outputs": [],
   "source": [
    "import matplotlib.pyplot as plt\n",
    "\n",
    "decisionNode = dict(boxstyle=\"sawtooth\", fc=\"0.8\")  # 상자 형태 정의 (상자 모양, 색)\n",
    "leafNode = dict(boxstyle=\"round4\", fc=\"0.8\")  # 상자 형태 정의 (상자 모양, 색)\n",
    "arrow_args = dict(arrowstyle=\"<-\")  # 화살표 형태 정의 (화살표 모양)\n",
    "\n",
    "# plotNode 함수\n",
    "# nodeTxt:노드 텍스트\n",
    "# centerPt: 자식 위치 \n",
    "# parentPt: 부모 위치\n",
    "# nodeType: 노드 종류\n",
    "def plotNode(nodeTxt, centerPt, parentPt, nodeType):\n",
    "    # 주석 달기 (http://matplotlib.org/users/annotations_intro.html)\n",
    "    createPlot.ax1.annotate(nodeTxt, xy=parentPt, xycoords='axes fraction',\n",
    "                            xytext=centerPt, textcoords='axes fraction',\n",
    "                            va=\"center\", ha=\"center\", bbox=nodeType,\n",
    "                            arrowprops=arrow_args)\n",
    "    # nodeTxt: text\n",
    "    # xy: start point\n",
    "    # xycoords: coordinate of xy (0,0 is lower left of axes and 1,1 is upper right)\n",
    "    # xytext: text point\n",
    "    # textcoords: coordinate of test (0,0 is lower left of axes and 1,1 is upper right)\n",
    "    # bbox: box border\n",
    "    # arrowprops: arrow propery\n",
    "    \n",
    "\n",
    "# createPlot 함수\n",
    "def createPlot():\n",
    "    fig = plt.figure(1, facecolor='white')\n",
    "    fig.clf()  # clearfigure\n",
    "    createPlot.ax1 = plt.subplot(111, frameon=False)  # createPlot은 전역변수\n",
    "    plotNode('a decision node', (0.5, 0.1), (0.1, 0.5), decisionNode)\n",
    "    plotNode('a leaf node', (0.8, 0.1), (0.3, 0.8), leafNode)\n",
    "    plt.show()"
   ]
  },
  {
   "cell_type": "code",
   "execution_count": 18,
   "metadata": {
    "collapsed": false,
    "scrolled": true
   },
   "outputs": [
    {
     "data": {
      "image/png": "[encoded data removed]",
      "text/plain": [
       "<matplotlib.figure.Figure at 0x7291780>"
      ]
     },
     "metadata": {},
     "output_type": "display_data"
    }
   ],
   "source": [
    "%matplotlib inline\n",
    "\n",
    "# createPlot 사용 예제\n",
    "createPlot()"
   ]
  },
  {
   "cell_type": "markdown",
   "metadata": {},
   "source": [
    "### 3.2.2 주석 트리 구축하기"
   ]
  },
  {
   "cell_type": "markdown",
   "metadata": {},
   "source": [
    "#### 리스팅 3.6 트리에 있는 노드의 개수와 깊이 확인하기"
   ]
  },
  {
   "cell_type": "code",
   "execution_count": 19,
   "metadata": {
    "collapsed": true
   },
   "outputs": [],
   "source": [
    "# getNumLeafs 함수\n",
    "# myTree: 트리 (dictionary)\n",
    "# numLeafs: 트리의 노드 개수\n",
    "def getNumLeafs(myTree):\n",
    "    numLeafs = 0\n",
    "    firstStr = myTree.keys()[0]\n",
    "    secondDict = myTree[firstStr]\n",
    "    for key in secondDict.keys():\n",
    "        if type(secondDict[key]).__name__=='dict':  # 노드가 Dictionary이면 의사결정 영역\n",
    "            numLeafs += getNumLeafs(secondDict[key])  # 재귀\n",
    "        else: numLeafs += 1  # 아니면 단말 영역\n",
    "    return numLeafs\n",
    "\n",
    "# getTreeDepth 함수\n",
    "# myTree: 트리 (dictionary)\n",
    "# numLeafs: 트리의 깊이\n",
    "def getTreeDepth(myTree):\n",
    "    maxDepth = 0\n",
    "    firstStr = myTree.keys()[0]\n",
    "    secondDict = myTree[firstStr]\n",
    "    for key in secondDict.keys():\n",
    "        if type(secondDict[key]).__name__=='dict':  # 노드가 Dictionary이면 의사결정 영역\n",
    "            thisDepth = 1 + getTreeDepth(secondDict[key])  # 재귀\n",
    "        else: thisDepth = 1  # 아니면 단말 영역\n",
    "        if thisDepth > maxDepth: maxDepth = thisDepth\n",
    "    return maxDepth\n",
    "\n",
    "# retrieveTree 함수\n",
    "# i: 트리 종류\n",
    "# listOfTrees[i]: i번째 트리 예제\n",
    "def retrieveTree(i):\n",
    "    listOfTrees = [{'no surfacing': {0: 'no', 1: {'flippers': {0: 'no', 1: 'yes'}}}},\n",
    "                   {'no surfacing': {0: 'no', 1: {'flippers': {0: {'head': {0: 'no', 1: 'yes'}}, 1: 'no'}}}}\n",
    "                  ]\n",
    "    return listOfTrees[i]"
   ]
  },
  {
   "cell_type": "code",
   "execution_count": 20,
   "metadata": {
    "collapsed": false,
    "scrolled": true
   },
   "outputs": [
    {
     "name": "stdout",
     "output_type": "stream",
     "text": [
      "Tree=\n",
      "{'no surfacing': {0: 'no', 1: {'flippers': {0: 'no', 1: 'yes'}}}}\n",
      "Number of leafs=\n",
      "3\n",
      "Depth of tree=\n",
      "2\n"
     ]
    }
   ],
   "source": [
    "myTree = retrieveTree(0)\n",
    "print \"Tree=\"\n",
    "print myTree\n",
    "print \"Number of leafs=\"\n",
    "print getNumLeafs(myTree)\n",
    "print \"Depth of tree=\"\n",
    "print getTreeDepth(myTree)"
   ]
  },
  {
   "cell_type": "markdown",
   "metadata": {},
   "source": [
    "#### 리스팅 3.7 plotTree 함수"
   ]
  },
  {
   "cell_type": "code",
   "execution_count": 21,
   "metadata": {
    "collapsed": true
   },
   "outputs": [],
   "source": [
    "# plotMidText 함수\n",
    "# cntrPt: 자식 노드 위치\n",
    "# parentPt: 부모 노드 위치\n",
    "# txtString: 문자열\n",
    "def plotMidText(cntrPt, parentPt, txtString):\n",
    "    # 자식 노드와 부모 노드 사이에 텍스트 플롯하기\n",
    "    xMid = (parentPt[0]-cntrPt[0])/2.0 + cntrPt[0]\n",
    "    yMid = (parentPt[1]-cntrPt[1])/2.0 + cntrPt[1]\n",
    "    createPlot.ax1.text(xMid, yMid, txtString)\n",
    "\n",
    "    # plotTree 함수\n",
    "# myTree: 트리 (dictionary)\n",
    "# parentPt: 부모 노드 위치\n",
    "# nodeTxt: 문자열\n",
    "def plotTree(myTree, parentPt, nodeTxt):\n",
    "    # 트리의 넓이와 높이를 계산함\n",
    "    numLeafs = getNumLeafs(myTree)\n",
    "    depth = getTreeDepth(myTree)\n",
    "    firstStr = myTree.keys()[0] \n",
    "    cntrPt = (plotTree.xOff + (1.0 + float(numLeafs))/2.0/plotTree.totalW, plotTree.yOff)\n",
    "    plotMidText(cntrPt, parentPt, nodeTxt)\n",
    "    plotNode(firstStr, cntrPt, parentPt, decisionNode)  # 자식 노드 값 플롯하기\n",
    "    secondDict = myTree[firstStr]\n",
    "    plotTree.yOff = plotTree.yOff - 1.0/plotTree.totalD  # y offset 감소\n",
    "    for key in secondDict.keys():\n",
    "        if type(secondDict[key]).__name__=='dict':  # 노드가 Dictionary이면 의사결정 영역\n",
    "            plotTree(secondDict[key],cntrPt,str(key))  # 재귀\n",
    "        else:  # 아니면 단말 영역\n",
    "            plotTree.xOff = plotTree.xOff + 1.0/plotTree.totalW\n",
    "            plotNode(secondDict[key], (plotTree.xOff, plotTree.yOff), cntrPt, leafNode)\n",
    "            plotMidText((plotTree.xOff, plotTree.yOff), cntrPt, str(key))\n",
    "    plotTree.yOff = plotTree.yOff + 1.0/plotTree.totalD\n",
    "\n",
    "# createPlot 함수\n",
    "# inTree: 트리 (dictionary)\n",
    "def createPlot(inTree):\n",
    "    fig = plt.figure(1, facecolor='white')\n",
    "    fig.clf()\n",
    "    axprops = dict(xticks=[], yticks=[])\n",
    "    createPlot.ax1 = plt.subplot(111, frameon=False, **axprops)\n",
    "    plotTree.totalW = float(getNumLeafs(inTree))\n",
    "    plotTree.totalD = float(getTreeDepth(inTree))\n",
    "    plotTree.xOff = -0.5/plotTree.totalW; plotTree.yOff = 1.0;\n",
    "    plotTree(inTree, (0.5,1.0), '')\n",
    "    plt.show()"
   ]
  },
  {
   "cell_type": "code",
   "execution_count": 22,
   "metadata": {
    "collapsed": false,
    "scrolled": false
   },
   "outputs": [
    {
     "name": "stdout",
     "output_type": "stream",
     "text": [
      "{'no surfacing': {0: 'no', 1: {'flippers': {0: 'no', 1: 'yes'}}}}\n"
     ]
    },
    {
     "data": {
      "image/png": "[encoded data removed]",
      "text/plain": [
       "<matplotlib.figure.Figure at 0x7409828>"
      ]
     },
     "metadata": {},
     "output_type": "display_data"
    }
   ],
   "source": [
    "%matplotlib inline\n",
    "\n",
    "myTree = retrieveTree(0)\n",
    "print myTree\n",
    "createPlot(myTree)"
   ]
  },
  {
   "cell_type": "code",
   "execution_count": 23,
   "metadata": {
    "collapsed": false
   },
   "outputs": [
    {
     "name": "stdout",
     "output_type": "stream",
     "text": [
      "{'no surfacing': {0: 'no', 1: {'flippers': {0: 'no', 1: 'yes'}}, 3: 'maybe'}}\n"
     ]
    },
    {
     "data": {
      "image/png": "[encoded data removed]",
      "text/plain": [
       "<matplotlib.figure.Figure at 0x74197b8>"
      ]
     },
     "metadata": {},
     "output_type": "display_data"
    }
   ],
   "source": [
    "%matplotlib inline\n",
    "\n",
    "myTree['no surfacing'][3] = 'maybe'\n",
    "print myTree\n",
    "createPlot(myTree)"
   ]
  },
  {
   "cell_type": "markdown",
   "metadata": {},
   "source": [
    "## 3.3 분류기 검사와 저장"
   ]
  },
  {
   "cell_type": "markdown",
   "metadata": {},
   "source": [
    "### 3.3.1 검사: 분류를 위한 트리 사용"
   ]
  },
  {
   "cell_type": "markdown",
   "metadata": {},
   "source": [
    "#### 리스팅 3.8 기존의 의사결정 트리를 위한 분류 함수"
   ]
  },
  {
   "cell_type": "code",
   "execution_count": 24,
   "metadata": {
    "collapsed": true
   },
   "outputs": [],
   "source": [
    "# classify 함수\n",
    "# inputTree: 트리 (dictionary)\n",
    "# featLabels: 라벨\n",
    "# testVec: testSet\n",
    "# classLabel: 분류된 라벨\n",
    "def classify(inputTree, featLabels, testVec):\n",
    "    firstStr = inputTree.keys()[0]\n",
    "    secondDict = inputTree[firstStr]\n",
    "    featIndex = featLabels.index(firstStr)  # 색인을 위한 분류 항목 표시 문자열 변환\n",
    "    for key in secondDict.keys():\n",
    "        if testVec[featIndex] == key:\n",
    "            if type(secondDict[key]).__name__=='dict':\n",
    "                classLabel = classify(secondDict[key], featLabels, testVec)\n",
    "            else: classLabel = secondDict[key]\n",
    "    return classLabel"
   ]
  },
  {
   "cell_type": "code",
   "execution_count": 25,
   "metadata": {
    "collapsed": false,
    "scrolled": true
   },
   "outputs": [
    {
     "name": "stdout",
     "output_type": "stream",
     "text": [
      "[[1, 1, 'yes'], [1, 1, 'yes'], [1, 0, 'no'], [0, 1, 'no'], [0, 1, 'no']]\n",
      "['no surfacing', 'flippers']\n",
      "{'no surfacing': {0: 'no', 1: {'flippers': {0: 'no', 1: 'yes'}}}}\n",
      "no\n",
      "yes\n"
     ]
    }
   ],
   "source": [
    "myDat, labels = createDataSet()\n",
    "myTree = retrieveTree(0)\n",
    "print myDat\n",
    "print labels\n",
    "print myTree\n",
    "print classify(myTree, labels, [1,0])\n",
    "print classify(myTree, labels, [1,1])"
   ]
  },
  {
   "cell_type": "markdown",
   "metadata": {},
   "source": [
    "### 3.3.2 사용: 의사결정 트리 계속 유지하기"
   ]
  },
  {
   "cell_type": "markdown",
   "metadata": {},
   "source": [
    "#### 리스팅 3.9 pickle을 가지고 의사결정 트리를 유지시키는 방법"
   ]
  },
  {
   "cell_type": "code",
   "execution_count": 26,
   "metadata": {
    "collapsed": true
   },
   "outputs": [],
   "source": [
    "# storeTree 함수\n",
    "# inputTree: 저장할 트리 객체\n",
    "# filename: 저장할 파일 이름\n",
    "def storeTree(inputTree, filename):\n",
    "    import pickle\n",
    "    fw = open(filename, 'w')\n",
    "    pickle.dump(inputTree, fw)  # 객체 저장\n",
    "    fw.close()\n",
    "    \n",
    "# grabTree 함수\n",
    "# filename: 로드할 파일 이름ㄹ\n",
    "# pickle.load(fr): 로드된 트리 객체\n",
    "def grabTree(filename):\n",
    "    import pickle\n",
    "    fr = open(filename)\n",
    "    return pickle.load(fr)  # 객체 로드"
   ]
  },
  {
   "cell_type": "code",
   "execution_count": 27,
   "metadata": {
    "collapsed": false
   },
   "outputs": [
    {
     "data": {
      "text/plain": [
       "{'no surfacing': {0: 'no', 1: {'flippers': {0: 'no', 1: 'yes'}}}}"
      ]
     },
     "execution_count": 27,
     "metadata": {},
     "output_type": "execute_result"
    }
   ],
   "source": [
    "storeTree(myTree, 'data\\classifierStorage.txt')\n",
    "grabTree('data\\classifierStorage.txt')"
   ]
  }
 ],
 "metadata": {
  "kernelspec": {
   "display_name": "Python 2",
   "language": "python",
   "name": "python2"
  },
  "language_info": {
   "codemirror_mode": {
    "name": "ipython",
    "version": 2
   },
   "file_extension": ".py",
   "mimetype": "text/x-python",
   "name": "python",
   "nbconvert_exporter": "python",
   "pygments_lexer": "ipython2",
   "version": "2.7.11"
  }
 },
 "nbformat": 4,
 "nbformat_minor": 0
}
